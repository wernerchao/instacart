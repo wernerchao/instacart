{
 "cells": [
  {
   "cell_type": "code",
   "execution_count": 25,
   "metadata": {
    "collapsed": true
   },
   "outputs": [],
   "source": [
    "%matplotlib inline\n",
    "\n",
    "import numpy as np\n",
    "import pandas as pd\n",
    "import matplotlib.pyplot as plt\n",
    "from sklearn.model_selection import StratifiedKFold\n",
    "import xgboost as xgb\n",
    "IDIR = '../features/'"
   ]
  },
  {
   "cell_type": "markdown",
   "metadata": {},
   "source": [
    "# Directly loading features to train XGB"
   ]
  },
  {
   "cell_type": "code",
   "execution_count": 4,
   "metadata": {},
   "outputs": [],
   "source": [
    "df_train = pd.read_csv(IDIR + 'df_train.csv')\n",
    "labels = pd.read_csv(IDIR + 'labels.csv')\n",
    "f_to_use = ['user_total_orders', 'user_total_items', 'total_distinct_items', \\\n",
    "            'user_average_days_between_orders', 'user_average_basket', \\\n",
    "            'order_hour_of_day', 'days_since_prior_order', 'days_since_ratio', \\\n",
    "            'aisle_id', 'department_id', 'product_orders', 'product_reorders', \\\n",
    "            'product_reorder_rate', 'UP_orders', 'UP_orders_ratio', \\\n",
    "            'UP_average_pos_in_cart', 'UP_reorder_rate', 'UP_orders_since_last', \\\n",
    "            'UP_delta_hour_vs_last']\n",
    "df_train = df_train[f_to_use]"
   ]
  },
  {
   "cell_type": "code",
   "execution_count": 19,
   "metadata": {},
   "outputs": [
    {
     "name": "stdout",
     "output_type": "stream",
     "text": [
      "(8474661, 21) 19\n"
     ]
    },
    {
     "data": {
      "text/html": [
       "<div>\n",
       "<style>\n",
       "    .dataframe thead tr:only-child th {\n",
       "        text-align: right;\n",
       "    }\n",
       "\n",
       "    .dataframe thead th {\n",
       "        text-align: left;\n",
       "    }\n",
       "\n",
       "    .dataframe tbody tr th {\n",
       "        vertical-align: top;\n",
       "    }\n",
       "</style>\n",
       "<table border=\"1\" class=\"dataframe\">\n",
       "  <thead>\n",
       "    <tr style=\"text-align: right;\">\n",
       "      <th></th>\n",
       "      <th>order_id</th>\n",
       "      <th>product_id</th>\n",
       "      <th>user_total_orders</th>\n",
       "      <th>user_total_items</th>\n",
       "      <th>total_distinct_items</th>\n",
       "      <th>user_average_days_between_orders</th>\n",
       "      <th>user_average_basket</th>\n",
       "      <th>order_hour_of_day</th>\n",
       "      <th>days_since_prior_order</th>\n",
       "      <th>days_since_ratio</th>\n",
       "      <th>...</th>\n",
       "      <th>department_id</th>\n",
       "      <th>product_orders</th>\n",
       "      <th>product_reorders</th>\n",
       "      <th>product_reorder_rate</th>\n",
       "      <th>UP_orders</th>\n",
       "      <th>UP_orders_ratio</th>\n",
       "      <th>UP_average_pos_in_cart</th>\n",
       "      <th>UP_reorder_rate</th>\n",
       "      <th>UP_orders_since_last</th>\n",
       "      <th>UP_delta_hour_vs_last</th>\n",
       "    </tr>\n",
       "  </thead>\n",
       "  <tbody>\n",
       "    <tr>\n",
       "      <th>0</th>\n",
       "      <td>1187899</td>\n",
       "      <td>17122</td>\n",
       "      <td>11</td>\n",
       "      <td>59</td>\n",
       "      <td>18</td>\n",
       "      <td>19.0</td>\n",
       "      <td>5.363636</td>\n",
       "      <td>8</td>\n",
       "      <td>14.0</td>\n",
       "      <td>0.736842</td>\n",
       "      <td>...</td>\n",
       "      <td>4</td>\n",
       "      <td>13880</td>\n",
       "      <td>9377.0</td>\n",
       "      <td>0.675576</td>\n",
       "      <td>1</td>\n",
       "      <td>0.090909</td>\n",
       "      <td>6.000000</td>\n",
       "      <td>0.090909</td>\n",
       "      <td>6</td>\n",
       "      <td>7</td>\n",
       "    </tr>\n",
       "    <tr>\n",
       "      <th>1</th>\n",
       "      <td>1187899</td>\n",
       "      <td>196</td>\n",
       "      <td>11</td>\n",
       "      <td>59</td>\n",
       "      <td>18</td>\n",
       "      <td>19.0</td>\n",
       "      <td>5.363636</td>\n",
       "      <td>8</td>\n",
       "      <td>14.0</td>\n",
       "      <td>0.736842</td>\n",
       "      <td>...</td>\n",
       "      <td>7</td>\n",
       "      <td>35791</td>\n",
       "      <td>27791.0</td>\n",
       "      <td>0.776480</td>\n",
       "      <td>10</td>\n",
       "      <td>0.909091</td>\n",
       "      <td>1.400000</td>\n",
       "      <td>0.909091</td>\n",
       "      <td>1</td>\n",
       "      <td>0</td>\n",
       "    </tr>\n",
       "    <tr>\n",
       "      <th>2</th>\n",
       "      <td>1187899</td>\n",
       "      <td>26405</td>\n",
       "      <td>11</td>\n",
       "      <td>59</td>\n",
       "      <td>18</td>\n",
       "      <td>19.0</td>\n",
       "      <td>5.363636</td>\n",
       "      <td>8</td>\n",
       "      <td>14.0</td>\n",
       "      <td>0.736842</td>\n",
       "      <td>...</td>\n",
       "      <td>17</td>\n",
       "      <td>1214</td>\n",
       "      <td>536.0</td>\n",
       "      <td>0.441516</td>\n",
       "      <td>2</td>\n",
       "      <td>0.181818</td>\n",
       "      <td>5.000000</td>\n",
       "      <td>0.181818</td>\n",
       "      <td>7</td>\n",
       "      <td>1</td>\n",
       "    </tr>\n",
       "    <tr>\n",
       "      <th>3</th>\n",
       "      <td>1187899</td>\n",
       "      <td>13032</td>\n",
       "      <td>11</td>\n",
       "      <td>59</td>\n",
       "      <td>18</td>\n",
       "      <td>19.0</td>\n",
       "      <td>5.363636</td>\n",
       "      <td>8</td>\n",
       "      <td>14.0</td>\n",
       "      <td>0.736842</td>\n",
       "      <td>...</td>\n",
       "      <td>14</td>\n",
       "      <td>3751</td>\n",
       "      <td>2465.0</td>\n",
       "      <td>0.657158</td>\n",
       "      <td>3</td>\n",
       "      <td>0.272727</td>\n",
       "      <td>6.333333</td>\n",
       "      <td>0.272727</td>\n",
       "      <td>1</td>\n",
       "      <td>0</td>\n",
       "    </tr>\n",
       "    <tr>\n",
       "      <th>4</th>\n",
       "      <td>1187899</td>\n",
       "      <td>39657</td>\n",
       "      <td>11</td>\n",
       "      <td>59</td>\n",
       "      <td>18</td>\n",
       "      <td>19.0</td>\n",
       "      <td>5.363636</td>\n",
       "      <td>8</td>\n",
       "      <td>14.0</td>\n",
       "      <td>0.736842</td>\n",
       "      <td>...</td>\n",
       "      <td>19</td>\n",
       "      <td>5019</td>\n",
       "      <td>3846.0</td>\n",
       "      <td>0.766288</td>\n",
       "      <td>1</td>\n",
       "      <td>0.090909</td>\n",
       "      <td>3.000000</td>\n",
       "      <td>0.090909</td>\n",
       "      <td>1</td>\n",
       "      <td>0</td>\n",
       "    </tr>\n",
       "  </tbody>\n",
       "</table>\n",
       "<p>5 rows × 21 columns</p>\n",
       "</div>"
      ],
      "text/plain": [
       "   order_id  product_id  user_total_orders  user_total_items  \\\n",
       "0   1187899       17122                 11                59   \n",
       "1   1187899         196                 11                59   \n",
       "2   1187899       26405                 11                59   \n",
       "3   1187899       13032                 11                59   \n",
       "4   1187899       39657                 11                59   \n",
       "\n",
       "   total_distinct_items  user_average_days_between_orders  \\\n",
       "0                    18                              19.0   \n",
       "1                    18                              19.0   \n",
       "2                    18                              19.0   \n",
       "3                    18                              19.0   \n",
       "4                    18                              19.0   \n",
       "\n",
       "   user_average_basket  order_hour_of_day  days_since_prior_order  \\\n",
       "0             5.363636                  8                    14.0   \n",
       "1             5.363636                  8                    14.0   \n",
       "2             5.363636                  8                    14.0   \n",
       "3             5.363636                  8                    14.0   \n",
       "4             5.363636                  8                    14.0   \n",
       "\n",
       "   days_since_ratio          ...            department_id  product_orders  \\\n",
       "0          0.736842          ...                        4           13880   \n",
       "1          0.736842          ...                        7           35791   \n",
       "2          0.736842          ...                       17            1214   \n",
       "3          0.736842          ...                       14            3751   \n",
       "4          0.736842          ...                       19            5019   \n",
       "\n",
       "   product_reorders  product_reorder_rate  UP_orders  UP_orders_ratio  \\\n",
       "0            9377.0              0.675576          1         0.090909   \n",
       "1           27791.0              0.776480         10         0.909091   \n",
       "2             536.0              0.441516          2         0.181818   \n",
       "3            2465.0              0.657158          3         0.272727   \n",
       "4            3846.0              0.766288          1         0.090909   \n",
       "\n",
       "   UP_average_pos_in_cart  UP_reorder_rate  UP_orders_since_last  \\\n",
       "0                6.000000         0.090909                     6   \n",
       "1                1.400000         0.909091                     1   \n",
       "2                5.000000         0.181818                     7   \n",
       "3                6.333333         0.272727                     1   \n",
       "4                3.000000         0.090909                     1   \n",
       "\n",
       "   UP_delta_hour_vs_last  \n",
       "0                      7  \n",
       "1                      0  \n",
       "2                      1  \n",
       "3                      0  \n",
       "4                      0  \n",
       "\n",
       "[5 rows x 21 columns]"
      ]
     },
     "execution_count": 19,
     "metadata": {},
     "output_type": "execute_result"
    }
   ],
   "source": [
    "print(df_train.shape, len(f_to_use))\n",
    "df_train.head()"
   ]
  },
  {
   "cell_type": "code",
   "execution_count": 15,
   "metadata": {},
   "outputs": [
    {
     "name": "stdout",
     "output_type": "stream",
     "text": [
      "(8474661, 1)\n",
      "0:  0    7645837\n",
      "dtype: int64 \n",
      "1:  0    828824\n",
      "dtype: int64\n"
     ]
    },
    {
     "data": {
      "text/html": [
       "<div>\n",
       "<style>\n",
       "    .dataframe thead tr:only-child th {\n",
       "        text-align: right;\n",
       "    }\n",
       "\n",
       "    .dataframe thead th {\n",
       "        text-align: left;\n",
       "    }\n",
       "\n",
       "    .dataframe tbody tr th {\n",
       "        vertical-align: top;\n",
       "    }\n",
       "</style>\n",
       "<table border=\"1\" class=\"dataframe\">\n",
       "  <thead>\n",
       "    <tr style=\"text-align: right;\">\n",
       "      <th></th>\n",
       "      <th>0</th>\n",
       "    </tr>\n",
       "  </thead>\n",
       "  <tbody>\n",
       "    <tr>\n",
       "      <th>0</th>\n",
       "      <td>0</td>\n",
       "    </tr>\n",
       "    <tr>\n",
       "      <th>1</th>\n",
       "      <td>1</td>\n",
       "    </tr>\n",
       "    <tr>\n",
       "      <th>2</th>\n",
       "      <td>1</td>\n",
       "    </tr>\n",
       "    <tr>\n",
       "      <th>3</th>\n",
       "      <td>1</td>\n",
       "    </tr>\n",
       "    <tr>\n",
       "      <th>4</th>\n",
       "      <td>1</td>\n",
       "    </tr>\n",
       "  </tbody>\n",
       "</table>\n",
       "</div>"
      ],
      "text/plain": [
       "   0\n",
       "0  0\n",
       "1  1\n",
       "2  1\n",
       "3  1\n",
       "4  1"
      ]
     },
     "execution_count": 15,
     "metadata": {},
     "output_type": "execute_result"
    }
   ],
   "source": [
    "print(labels.shape)\n",
    "print('0: ', np.sum(labels == 0), '\\n1: ', np.sum(labels == 1))\n",
    "labels.head()"
   ]
  },
  {
   "cell_type": "markdown",
   "metadata": {},
   "source": [
    "# XGB Cross Validation"
   ]
  },
  {
   "cell_type": "code",
   "execution_count": 36,
   "metadata": {},
   "outputs": [
    {
     "name": "stdout",
     "output_type": "stream",
     "text": [
      "formating for xgb\n"
     ]
    }
   ],
   "source": [
    "%%time\n",
    "\n",
    "print('formating for xgb')\n",
    "d_train = xgb.DMatrix(df_train[f_to_use], \\\n",
    "                      label = labels)"
   ]
  },
  {
   "cell_type": "code",
   "execution_count": 63,
   "metadata": {
    "scrolled": true
   },
   "outputs": [
    {
     "name": "stdout",
     "output_type": "stream",
     "text": [
      "[0]\ttrain-logloss:0.424365+9.35391e-05\ttest-logloss:0.424383+4.04173e-05\n",
      "[1]\ttrain-logloss:0.329645+7.88346e-05\ttest-logloss:0.329712+0.000116523\n",
      "[2]\ttrain-logloss:0.287403+0.000843598\ttest-logloss:0.287495+0.000645268\n",
      "[3]\ttrain-logloss:0.266767+0.000293526\ttest-logloss:0.2669+0.000135451\n",
      "[4]\ttrain-logloss:0.2569+0.000169313\ttest-logloss:0.257052+0.00014678\n",
      "[5]\ttrain-logloss:0.252161+0.000135546\ttest-logloss:0.252324+0.000230175\n",
      "[6]\ttrain-logloss:0.249958+0.000124064\ttest-logloss:0.250151+0.000246417\n",
      "[7]\ttrain-logloss:0.248901+9.10433e-05\ttest-logloss:0.24912+0.000212817\n",
      "[8]\ttrain-logloss:0.248278+0.000127216\ttest-logloss:0.248528+0.000220143\n",
      "[9]\ttrain-logloss:0.247827+0.000123777\ttest-logloss:0.248106+0.000220896\n",
      "[10]\ttrain-logloss:0.247582+0.00015292\ttest-logloss:0.247895+0.000215603\n",
      "[11]\ttrain-logloss:0.247347+0.000115728\ttest-logloss:0.247694+0.000244936\n",
      "[12]\ttrain-logloss:0.247124+0.000147989\ttest-logloss:0.247492+0.00023187\n",
      "[13]\ttrain-logloss:0.246926+0.000167016\ttest-logloss:0.247328+0.000223055\n",
      "[14]\ttrain-logloss:0.246778+0.000196368\ttest-logloss:0.247214+0.000214557\n",
      "[15]\ttrain-logloss:0.246636+0.000153115\ttest-logloss:0.247092+0.000267945\n",
      "[16]\ttrain-logloss:0.246506+0.000123759\ttest-logloss:0.24699+0.000269018\n",
      "[17]\ttrain-logloss:0.246395+0.000106284\ttest-logloss:0.246906+0.000277576\n",
      "[18]\ttrain-logloss:0.246286+0.000104529\ttest-logloss:0.246837+0.000286526\n",
      "[19]\ttrain-logloss:0.246149+0.00011999\ttest-logloss:0.246734+0.000243294\n",
      "[20]\ttrain-logloss:0.246072+0.000135846\ttest-logloss:0.246683+0.000232693\n",
      "[21]\ttrain-logloss:0.246003+0.000139127\ttest-logloss:0.246644+0.000241284\n",
      "[22]\ttrain-logloss:0.245919+0.000131202\ttest-logloss:0.246588+0.000255059\n",
      "[23]\ttrain-logloss:0.245842+0.000131403\ttest-logloss:0.246535+0.00025813\n",
      "[24]\ttrain-logloss:0.245764+0.000140272\ttest-logloss:0.246482+0.000239985\n",
      "[25]\ttrain-logloss:0.245691+0.000117173\ttest-logloss:0.246441+0.000260466\n",
      "[26]\ttrain-logloss:0.24563+0.00010768\ttest-logloss:0.246415+0.000271318\n",
      "[27]\ttrain-logloss:0.245559+0.000109679\ttest-logloss:0.246377+0.000268745\n",
      "[28]\ttrain-logloss:0.245482+9.2899e-05\ttest-logloss:0.246337+0.000283924\n",
      "[29]\ttrain-logloss:0.245414+0.000118587\ttest-logloss:0.246301+0.000269875\n",
      "[30]\ttrain-logloss:0.245352+0.000116236\ttest-logloss:0.246268+0.000274155\n",
      "[31]\ttrain-logloss:0.245266+0.000109393\ttest-logloss:0.246215+0.000280588\n",
      "[32]\ttrain-logloss:0.245204+0.000119074\ttest-logloss:0.246179+0.000269823\n",
      "[33]\ttrain-logloss:0.245158+0.00013194\ttest-logloss:0.246162+0.000261367\n",
      "[34]\ttrain-logloss:0.245092+0.000140072\ttest-logloss:0.246127+0.00025656\n",
      "[35]\ttrain-logloss:0.24503+0.000122997\ttest-logloss:0.246091+0.000277686\n",
      "[36]\ttrain-logloss:0.244958+0.000139315\ttest-logloss:0.246048+0.000255785\n",
      "[37]\ttrain-logloss:0.24491+0.000137633\ttest-logloss:0.24603+0.000262945\n",
      "[38]\ttrain-logloss:0.244863+0.000140457\ttest-logloss:0.24601+0.000257538\n",
      "[39]\ttrain-logloss:0.244816+0.000131622\ttest-logloss:0.245987+0.000263135\n",
      "[40]\ttrain-logloss:0.244775+0.000140801\ttest-logloss:0.245976+0.000258597\n",
      "[41]\ttrain-logloss:0.244725+0.000125231\ttest-logloss:0.245957+0.000274854\n",
      "[42]\ttrain-logloss:0.244666+0.000115679\ttest-logloss:0.245926+0.00028585\n",
      "[43]\ttrain-logloss:0.244617+0.00012707\ttest-logloss:0.245909+0.000280596\n",
      "[44]\ttrain-logloss:0.244562+0.000108063\ttest-logloss:0.245881+0.000290896\n",
      "[45]\ttrain-logloss:0.244515+0.000100422\ttest-logloss:0.245856+0.000295354\n",
      "[46]\ttrain-logloss:0.244465+0.000108188\ttest-logloss:0.24583+0.000286918\n",
      "[47]\ttrain-logloss:0.244428+0.00011175\ttest-logloss:0.245819+0.000284566\n",
      "[48]\ttrain-logloss:0.244381+0.000108898\ttest-logloss:0.245802+0.000287009\n",
      "[49]\ttrain-logloss:0.244336+0.000110384\ttest-logloss:0.245782+0.000287134\n",
      "[50]\ttrain-logloss:0.244281+0.000122347\ttest-logloss:0.245754+0.00027776\n",
      "[51]\ttrain-logloss:0.244229+0.000114375\ttest-logloss:0.245726+0.000283133\n",
      "[52]\ttrain-logloss:0.244185+0.000111572\ttest-logloss:0.245711+0.00028946\n",
      "[53]\ttrain-logloss:0.244151+0.000110899\ttest-logloss:0.245706+0.000292477\n",
      "[54]\ttrain-logloss:0.244104+0.000119116\ttest-logloss:0.245682+0.000276999\n",
      "[55]\ttrain-logloss:0.244067+0.000125776\ttest-logloss:0.245668+0.000272881\n",
      "[56]\ttrain-logloss:0.244035+0.000122913\ttest-logloss:0.245661+0.000274171\n",
      "[57]\ttrain-logloss:0.244001+0.000128573\ttest-logloss:0.245658+0.000274533\n",
      "[58]\ttrain-logloss:0.243974+0.000128419\ttest-logloss:0.245658+0.00027573\n",
      "[59]\ttrain-logloss:0.243934+0.000133277\ttest-logloss:0.245649+0.000271658\n",
      "[60]\ttrain-logloss:0.243895+0.000130708\ttest-logloss:0.245637+0.000276356\n",
      "[61]\ttrain-logloss:0.243856+0.000130247\ttest-logloss:0.245629+0.000280251\n",
      "[62]\ttrain-logloss:0.243823+0.000127049\ttest-logloss:0.245623+0.00028235\n",
      "[63]\ttrain-logloss:0.243791+0.000136509\ttest-logloss:0.245618+0.00027885\n",
      "[64]\ttrain-logloss:0.243749+0.000154035\ttest-logloss:0.245602+0.00026442\n",
      "[65]\ttrain-logloss:0.243713+0.000155215\ttest-logloss:0.24559+0.000268352\n",
      "[66]\ttrain-logloss:0.243678+0.000158905\ttest-logloss:0.245581+0.000263025\n",
      "[67]\ttrain-logloss:0.24364+0.000158645\ttest-logloss:0.245576+0.000263899\n",
      "[68]\ttrain-logloss:0.243606+0.000165441\ttest-logloss:0.245567+0.000261367\n",
      "[69]\ttrain-logloss:0.243579+0.000167695\ttest-logloss:0.245567+0.000266201\n",
      "[70]\ttrain-logloss:0.243545+0.000166787\ttest-logloss:0.245557+0.000266347\n",
      "[71]\ttrain-logloss:0.243514+0.000164747\ttest-logloss:0.245557+0.000266335\n",
      "[72]\ttrain-logloss:0.243482+0.000160571\ttest-logloss:0.245555+0.000270077\n",
      "[73]\ttrain-logloss:0.243454+0.000159563\ttest-logloss:0.245554+0.000268435\n",
      "[74]\ttrain-logloss:0.243425+0.000167942\ttest-logloss:0.245547+0.000266134\n",
      "[75]\ttrain-logloss:0.243394+0.000172225\ttest-logloss:0.245542+0.000257923\n",
      "[76]\ttrain-logloss:0.243361+0.000168916\ttest-logloss:0.245538+0.000260494\n",
      "[77]\ttrain-logloss:0.243328+0.000161461\ttest-logloss:0.245529+0.000272842\n",
      "[78]\ttrain-logloss:0.243302+0.000159919\ttest-logloss:0.245524+0.000273468\n",
      "[79]\ttrain-logloss:0.243268+0.000157866\ttest-logloss:0.245521+0.000271913\n",
      "[80]\ttrain-logloss:0.243237+0.000158412\ttest-logloss:0.245521+0.000270218\n",
      "[81]\ttrain-logloss:0.243195+0.000157164\ttest-logloss:0.24551+0.000268646\n",
      "[82]\ttrain-logloss:0.243151+0.000145498\ttest-logloss:0.24549+0.000285153\n",
      "[83]\ttrain-logloss:0.243124+0.000148235\ttest-logloss:0.245492+0.00028423\n",
      "[84]\ttrain-logloss:0.243099+0.000153788\ttest-logloss:0.245493+0.000286696\n",
      "[85]\ttrain-logloss:0.24307+0.000153333\ttest-logloss:0.245496+0.000282992\n",
      "[86]\ttrain-logloss:0.243042+0.000153298\ttest-logloss:0.245485+0.000282533\n",
      "[87]\ttrain-logloss:0.243002+0.000140648\ttest-logloss:0.245471+0.0002972\n",
      "[88]\ttrain-logloss:0.242974+0.000138615\ttest-logloss:0.245466+0.000296626\n",
      "[89]\ttrain-logloss:0.242941+0.000140231\ttest-logloss:0.245459+0.000294383\n",
      "[90]\ttrain-logloss:0.242903+0.000144417\ttest-logloss:0.245452+0.000296406\n",
      "[91]\ttrain-logloss:0.242871+0.000147443\ttest-logloss:0.245446+0.000295355\n",
      "[92]\ttrain-logloss:0.242836+0.000143292\ttest-logloss:0.245435+0.000300484\n",
      "[93]\ttrain-logloss:0.242799+0.000157954\ttest-logloss:0.245423+0.000293353\n",
      "[94]\ttrain-logloss:0.24277+0.000156476\ttest-logloss:0.245415+0.000294426\n",
      "[95]\ttrain-logloss:0.242743+0.000156361\ttest-logloss:0.245409+0.000294139\n",
      "[96]\ttrain-logloss:0.242712+0.000156481\ttest-logloss:0.245403+0.000294324\n",
      "[97]\ttrain-logloss:0.24269+0.000162514\ttest-logloss:0.245404+0.000292767\n",
      "[98]\ttrain-logloss:0.242658+0.000158392\ttest-logloss:0.2454+0.000301433\n",
      "[99]\ttrain-logloss:0.242628+0.000159086\ttest-logloss:0.245394+0.000302362\n",
      "CPU times: user 45min 41s, sys: 2min 2s, total: 47min 43s\n",
      "Wall time: 16min 12s\n"
     ]
    }
   ],
   "source": [
    "%%time\n",
    "\n",
    "# eta = [0.1]\n",
    "params = {\n",
    "  \"objective\"           : \"reg:logistic\",\n",
    "  \"eval_metric\"         : \"logloss\",\n",
    "  \"eta\"                 : 0.5,\n",
    "  \"max_depth\"           : 6,\n",
    "  \"min_child_weight\"    : 10,\n",
    "  \"gamma\"               : 0.70,\n",
    "  \"subsample\"           : 0.76,\n",
    "  \"colsample_bytree\"    : 0.95,\n",
    "  \"alpha\"               : 2e-05,\n",
    "  \"lambda\"              : 10\n",
    "}\n",
    "ROUNDS = 100\n",
    "\n",
    "xgb_cv = xgb.cv(params, \\\n",
    "                d_train, \\\n",
    "                ROUNDS, \\\n",
    "                nfold = 3, \\\n",
    "                stratified = True, \\\n",
    "                metrics = 'logloss', \\\n",
    "                early_stopping_rounds = 10, \\\n",
    "                verbose_eval = 10)\n",
    "\n",
    "xgb_cv.tail()"
   ]
  },
  {
   "cell_type": "code",
   "execution_count": 35,
   "metadata": {},
   "outputs": [
    {
     "data": {
      "text/html": [
       "<div>\n",
       "<style>\n",
       "    .dataframe thead tr:only-child th {\n",
       "        text-align: right;\n",
       "    }\n",
       "\n",
       "    .dataframe thead th {\n",
       "        text-align: left;\n",
       "    }\n",
       "\n",
       "    .dataframe tbody tr th {\n",
       "        vertical-align: top;\n",
       "    }\n",
       "</style>\n",
       "<table border=\"1\" class=\"dataframe\">\n",
       "  <thead>\n",
       "    <tr style=\"text-align: right;\">\n",
       "      <th></th>\n",
       "      <th>test-logloss-mean</th>\n",
       "      <th>test-logloss-std</th>\n",
       "      <th>train-logloss-mean</th>\n",
       "      <th>train-logloss-std</th>\n",
       "    </tr>\n",
       "  </thead>\n",
       "  <tbody>\n",
       "    <tr>\n",
       "      <th>95</th>\n",
       "      <td>0.246401</td>\n",
       "      <td>0.000139</td>\n",
       "      <td>0.245888</td>\n",
       "      <td>0.000107</td>\n",
       "    </tr>\n",
       "    <tr>\n",
       "      <th>96</th>\n",
       "      <td>0.246385</td>\n",
       "      <td>0.000141</td>\n",
       "      <td>0.245869</td>\n",
       "      <td>0.000106</td>\n",
       "    </tr>\n",
       "    <tr>\n",
       "      <th>97</th>\n",
       "      <td>0.246371</td>\n",
       "      <td>0.000139</td>\n",
       "      <td>0.245849</td>\n",
       "      <td>0.000107</td>\n",
       "    </tr>\n",
       "    <tr>\n",
       "      <th>98</th>\n",
       "      <td>0.246353</td>\n",
       "      <td>0.000141</td>\n",
       "      <td>0.245825</td>\n",
       "      <td>0.000106</td>\n",
       "    </tr>\n",
       "    <tr>\n",
       "      <th>99</th>\n",
       "      <td>0.246337</td>\n",
       "      <td>0.000144</td>\n",
       "      <td>0.245804</td>\n",
       "      <td>0.000103</td>\n",
       "    </tr>\n",
       "  </tbody>\n",
       "</table>\n",
       "</div>"
      ],
      "text/plain": [
       "    test-logloss-mean  test-logloss-std  train-logloss-mean  train-logloss-std\n",
       "95           0.246401          0.000139            0.245888           0.000107\n",
       "96           0.246385          0.000141            0.245869           0.000106\n",
       "97           0.246371          0.000139            0.245849           0.000107\n",
       "98           0.246353          0.000141            0.245825           0.000106\n",
       "99           0.246337          0.000144            0.245804           0.000103"
      ]
     },
     "execution_count": 35,
     "metadata": {},
     "output_type": "execute_result"
    }
   ],
   "source": [
    "xgb_cv.tail()"
   ]
  },
  {
   "cell_type": "code",
   "execution_count": 64,
   "metadata": {
    "scrolled": true
   },
   "outputs": [
    {
     "data": {
      "image/png": "[encoded data removed]",
      "text/plain": [
       "<matplotlib.figure.Figure at 0x10aa9de80>"
      ]
     },
     "metadata": {},
     "output_type": "display_data"
    }
   ],
   "source": [
    "plt.figure(figsize=(16,8))\n",
    "plt.plot(xgb_cv['train-logloss-mean'], label='train')\n",
    "plt.plot(xgb_cv['test-logloss-mean'], label='validation')\n",
    "# plt.xlim(200, 400)\n",
    "# plt.ylim(0.3, 0.38)\n",
    "plt.xlabel('num. of rounds')\n",
    "plt.ylabel('Log Loss Error')\n",
    "plt.legend()\n",
    "plt.show()"
   ]
  },
  {
   "cell_type": "markdown",
   "metadata": {},
   "source": [
    "# XGB Train"
   ]
  },
  {
   "cell_type": "code",
   "execution_count": 66,
   "metadata": {},
   "outputs": [
    {
     "data": {
      "text/plain": [
       "{'alpha': 2e-05,\n",
       " 'colsample_bytree': 0.95,\n",
       " 'eta': 0.5,\n",
       " 'eval_metric': 'logloss',\n",
       " 'gamma': 0.7,\n",
       " 'lambda': 10,\n",
       " 'max_depth': 6,\n",
       " 'min_child_weight': 10,\n",
       " 'objective': 'reg:logistic',\n",
       " 'subsample': 0.76}"
      ]
     },
     "execution_count": 66,
     "metadata": {},
     "output_type": "execute_result"
    }
   ],
   "source": [
    "params"
   ]
  },
  {
   "cell_type": "code",
   "execution_count": 68,
   "metadata": {},
   "outputs": [
    {
     "name": "stdout",
     "output_type": "stream",
     "text": [
      "XGB train...\n",
      "formating for xgb\n",
      "Training...\n",
      "[0]\ttrain-logloss:0.424387\tval-logloss:0.424496\n",
      "Multiple eval metrics have been passed: 'val-logloss' will be used for early stopping.\n",
      "\n",
      "Will train until val-logloss hasn't improved in 10 rounds.\n",
      "[10]\ttrain-logloss:0.247803\tval-logloss:0.248158\n",
      "[20]\ttrain-logloss:0.246245\tval-logloss:0.247076\n",
      "[30]\ttrain-logloss:0.245534\tval-logloss:0.246704\n",
      "[40]\ttrain-logloss:0.244943\tval-logloss:0.246496\n",
      "[50]\ttrain-logloss:0.244545\tval-logloss:0.246421\n",
      "[60]\ttrain-logloss:0.244218\tval-logloss:0.246324\n",
      "[70]\ttrain-logloss:0.243966\tval-logloss:0.24632\n",
      "[80]\ttrain-logloss:0.243663\tval-logloss:0.246331\n",
      "Stopping. Best iteration:\n",
      "[74]\ttrain-logloss:0.243847\tval-logloss:0.246293\n",
      "\n"
     ]
    }
   ],
   "source": [
    "print('XGB train...')\n",
    "skf = StratifiedKFold(n_splits = 10, random_state=None, shuffle=False)\n",
    "fold_count = 0\n",
    "for train_index, val_index in skf.split(df_train, labels['0']):\n",
    "    X_train, X_val = df_train.iloc[train_index, :], df_train.iloc[val_index, :]\n",
    "    y_train, y_val = labels.iloc[train_index, :], labels.iloc[val_index, :]\n",
    "\n",
    "    print('formating for xgb')\n",
    "    d_train = xgb.DMatrix(X_train, label = y_train)\n",
    "    d_valid = xgb.DMatrix(X_val, label = y_val)\n",
    "    watchlist = [(d_train, 'train'), (d_valid, 'val')]\n",
    "\n",
    "    print('Training...')\n",
    "    bst = xgb.train(params = params, \\\n",
    "                    dtrain = d_train, \\\n",
    "                    num_boost_round = ROUNDS, \\\n",
    "                    evals = watchlist, \\\n",
    "                    verbose_eval = 10, \\\n",
    "                    early_stopping_rounds = 20)\n",
    "    d_test = xgb.DMatrix(X_val)\n",
    "    pred_val = pd.DataFrame(bst.predict(d_test))\n",
    "    pred_val.to_csv('./xgb_train_fold_{}.csv'.format(fold_count))\n",
    "    pd.DataFrame(y_val).to_csv('./y_val_fold){}.csv'.format(fold_count))\n",
    "    fold_count += 1\n",
    "    break"
   ]
  },
  {
   "cell_type": "code",
   "execution_count": 98,
   "metadata": {},
   "outputs": [
    {
     "data": {
      "text/plain": [
       "<matplotlib.axes._subplots.AxesSubplot at 0x10c4a74a8>"
      ]
     },
     "execution_count": 98,
     "metadata": {},
     "output_type": "execute_result"
    },
    {
     "data": {
      "image/png": "[encoded data removed]",
      "text/plain": [
       "<matplotlib.figure.Figure at 0x10ad4d898>"
      ]
     },
     "metadata": {},
     "output_type": "display_data"
    }
   ],
   "source": [
    "plt.rcParams[\"figure.figsize\"] = (16, 8)\n",
    "xgb.plot_importance(bst)"
   ]
  },
  {
   "cell_type": "code",
   "execution_count": 82,
   "metadata": {},
   "outputs": [
    {
     "data": {
      "text/html": [
       "<div>\n",
       "<style>\n",
       "    .dataframe thead tr:only-child th {\n",
       "        text-align: right;\n",
       "    }\n",
       "\n",
       "    .dataframe thead th {\n",
       "        text-align: left;\n",
       "    }\n",
       "\n",
       "    .dataframe tbody tr th {\n",
       "        vertical-align: top;\n",
       "    }\n",
       "</style>\n",
       "<table border=\"1\" class=\"dataframe\">\n",
       "  <thead>\n",
       "    <tr style=\"text-align: right;\">\n",
       "      <th></th>\n",
       "      <th>0</th>\n",
       "    </tr>\n",
       "  </thead>\n",
       "  <tbody>\n",
       "    <tr>\n",
       "      <th>0</th>\n",
       "      <td>0.336817</td>\n",
       "    </tr>\n",
       "    <tr>\n",
       "      <th>1</th>\n",
       "      <td>0.781324</td>\n",
       "    </tr>\n",
       "    <tr>\n",
       "      <th>2</th>\n",
       "      <td>0.059477</td>\n",
       "    </tr>\n",
       "    <tr>\n",
       "      <th>3</th>\n",
       "      <td>0.608070</td>\n",
       "    </tr>\n",
       "    <tr>\n",
       "      <th>4</th>\n",
       "      <td>0.084752</td>\n",
       "    </tr>\n",
       "  </tbody>\n",
       "</table>\n",
       "</div>"
      ],
      "text/plain": [
       "          0\n",
       "0  0.336817\n",
       "1  0.781324\n",
       "2  0.059477\n",
       "3  0.608070\n",
       "4  0.084752"
      ]
     },
     "execution_count": 82,
     "metadata": {},
     "output_type": "execute_result"
    }
   ],
   "source": [
    "df_test = pd.read_csv(IDIR + 'df_test.csv')\n",
    "pred = pd.DataFrame(bst.predict(xgb.DMatrix(df_test[f_to_use])))\n",
    "pred.head()"
   ]
  },
  {
   "cell_type": "code",
   "execution_count": 89,
   "metadata": {},
   "outputs": [],
   "source": [
    "df_test['pred'] = pred\n",
    "TRESHOLD = 0.22  # guess, should be tuned with crossval on a subset of train data\n",
    "\n",
    "d = dict()\n",
    "for row in df_test.itertuples():\n",
    "    if row.pred > TRESHOLD:\n",
    "        try:\n",
    "            d[row.order_id] += ' ' + str(row.product_id)\n",
    "        except:\n",
    "            d[row.order_id] = str(row.product_id)\n",
    "\n",
    "# Get test_orders with order_id\n",
    "orders = pd.read_csv('../data/orders.csv')\n",
    "test_orders = orders[orders.eval_set == 'test']\n",
    "del orders\n",
    "\n",
    "for order in test_orders.order_id:\n",
    "    if order not in d:\n",
    "        d[order] = 'None'\n",
    "\n",
    "del test_orders"
   ]
  },
  {
   "cell_type": "code",
   "execution_count": 92,
   "metadata": {
    "collapsed": true
   },
   "outputs": [],
   "source": [
    "sub = pd.DataFrame.from_dict(d, orient='index')\n",
    "sub.reset_index(inplace=True)\n",
    "sub.columns = ['order_id', 'products']\n",
    "sub.to_csv('sub.csv', index=False)"
   ]
  },
  {
   "cell_type": "code",
   "execution_count": null,
   "metadata": {
    "collapsed": true
   },
   "outputs": [],
   "source": []
  },
  {
   "cell_type": "markdown",
   "metadata": {},
   "source": [
    "# Feature Engineering"
   ]
  },
  {
   "cell_type": "code",
   "execution_count": 3,
   "metadata": {},
   "outputs": [
    {
     "name": "stdout",
     "output_type": "stream",
     "text": [
      "loading prior\n",
      "loading train\n",
      "loading orders\n",
      "loading products\n",
      "priors (32434489, 4): order_id, product_id, add_to_cart_order, reordered\n",
      "orders (3421083, 7): order_id, user_id, eval_set, order_number, order_dow, order_hour_of_day, days_since_prior_order\n",
      "train (1384617, 4): order_id, product_id, add_to_cart_order, reordered\n"
     ]
    }
   ],
   "source": [
    "print('loading prior')\n",
    "priors = pd.read_csv(IDIR + 'order_products__prior.csv', dtype={\n",
    "            'order_id': np.int32,\n",
    "            'product_id': np.uint16,\n",
    "            'add_to_cart_order': np.int16,\n",
    "            'reordered': np.int8})\n",
    "\n",
    "print('loading train')\n",
    "train = pd.read_csv(IDIR + 'order_products__train.csv', dtype={\n",
    "            'order_id': np.int32,\n",
    "            'product_id': np.uint16,\n",
    "            'add_to_cart_order': np.int16,\n",
    "            'reordered': np.int8})\n",
    "\n",
    "print('loading orders')\n",
    "orders = pd.read_csv(IDIR + 'orders.csv', dtype={\n",
    "        'order_id': np.int32,\n",
    "        'user_id': np.int32,\n",
    "        'eval_set': 'category',\n",
    "        'order_number': np.int16,\n",
    "        'order_dow': np.int8,\n",
    "        'order_hour_of_day': np.int8,\n",
    "        'days_since_prior_order': np.float32})\n",
    "\n",
    "print('loading products')\n",
    "products = pd.read_csv(IDIR + 'products.csv', dtype={\n",
    "        'product_id': np.uint16,\n",
    "        'order_id': np.int32,\n",
    "        'aisle_id': np.uint8,\n",
    "        'department_id': np.uint8},\n",
    "        usecols=['product_id', 'aisle_id', 'department_id'])\n",
    "\n",
    "print('priors {}: {}'.format(priors.shape, ', '.join(priors.columns)))\n",
    "print('orders {}: {}'.format(orders.shape, ', '.join(orders.columns)))\n",
    "print('train {}: {}'.format(train.shape, ', '.join(train.columns)))"
   ]
  },
  {
   "cell_type": "code",
   "execution_count": 19,
   "metadata": {},
   "outputs": [
    {
     "name": "stdout",
     "output_type": "stream",
     "text": [
      "computing product f\n"
     ]
    }
   ],
   "source": [
    "print('computing product f')\n",
    "prods = pd.DataFrame()\n",
    "prods['orders'] = priors.groupby(priors.product_id).size().astype(np.int32)\n",
    "prods['reorders'] = priors['reordered'].groupby(priors.product_id).sum().astype(np.float32)\n",
    "prods['reorder_rate'] = (prods.reorders / prods.orders).astype(np.float32)\n",
    "products = products.join(prods, on='product_id')\n",
    "products.set_index('product_id', drop=False, inplace=True)\n",
    "del prods"
   ]
  },
  {
   "cell_type": "code",
   "execution_count": 26,
   "metadata": {},
   "outputs": [
    {
     "data": {
      "text/html": [
       "<div>\n",
       "<style>\n",
       "    .dataframe thead tr:only-child th {\n",
       "        text-align: right;\n",
       "    }\n",
       "\n",
       "    .dataframe thead th {\n",
       "        text-align: left;\n",
       "    }\n",
       "\n",
       "    .dataframe tbody tr th {\n",
       "        vertical-align: top;\n",
       "    }\n",
       "</style>\n",
       "<table border=\"1\" class=\"dataframe\">\n",
       "  <thead>\n",
       "    <tr style=\"text-align: right;\">\n",
       "      <th></th>\n",
       "      <th>order_id</th>\n",
       "      <th>product_id</th>\n",
       "      <th>add_to_cart_order</th>\n",
       "      <th>reordered</th>\n",
       "      <th>order_id_</th>\n",
       "      <th>user_id</th>\n",
       "      <th>eval_set</th>\n",
       "      <th>order_number</th>\n",
       "      <th>order_dow</th>\n",
       "      <th>order_hour_of_day</th>\n",
       "      <th>days_since_prior_order</th>\n",
       "    </tr>\n",
       "  </thead>\n",
       "  <tbody>\n",
       "    <tr>\n",
       "      <th>0</th>\n",
       "      <td>2</td>\n",
       "      <td>33120</td>\n",
       "      <td>1</td>\n",
       "      <td>1</td>\n",
       "      <td>2</td>\n",
       "      <td>202279</td>\n",
       "      <td>prior</td>\n",
       "      <td>3</td>\n",
       "      <td>5</td>\n",
       "      <td>9</td>\n",
       "      <td>8.0</td>\n",
       "    </tr>\n",
       "    <tr>\n",
       "      <th>1</th>\n",
       "      <td>2</td>\n",
       "      <td>28985</td>\n",
       "      <td>2</td>\n",
       "      <td>1</td>\n",
       "      <td>2</td>\n",
       "      <td>202279</td>\n",
       "      <td>prior</td>\n",
       "      <td>3</td>\n",
       "      <td>5</td>\n",
       "      <td>9</td>\n",
       "      <td>8.0</td>\n",
       "    </tr>\n",
       "    <tr>\n",
       "      <th>2</th>\n",
       "      <td>2</td>\n",
       "      <td>9327</td>\n",
       "      <td>3</td>\n",
       "      <td>0</td>\n",
       "      <td>2</td>\n",
       "      <td>202279</td>\n",
       "      <td>prior</td>\n",
       "      <td>3</td>\n",
       "      <td>5</td>\n",
       "      <td>9</td>\n",
       "      <td>8.0</td>\n",
       "    </tr>\n",
       "    <tr>\n",
       "      <th>3</th>\n",
       "      <td>2</td>\n",
       "      <td>45918</td>\n",
       "      <td>4</td>\n",
       "      <td>1</td>\n",
       "      <td>2</td>\n",
       "      <td>202279</td>\n",
       "      <td>prior</td>\n",
       "      <td>3</td>\n",
       "      <td>5</td>\n",
       "      <td>9</td>\n",
       "      <td>8.0</td>\n",
       "    </tr>\n",
       "    <tr>\n",
       "      <th>4</th>\n",
       "      <td>2</td>\n",
       "      <td>30035</td>\n",
       "      <td>5</td>\n",
       "      <td>0</td>\n",
       "      <td>2</td>\n",
       "      <td>202279</td>\n",
       "      <td>prior</td>\n",
       "      <td>3</td>\n",
       "      <td>5</td>\n",
       "      <td>9</td>\n",
       "      <td>8.0</td>\n",
       "    </tr>\n",
       "  </tbody>\n",
       "</table>\n",
       "</div>"
      ],
      "text/plain": [
       "   order_id  product_id  add_to_cart_order  reordered  order_id_  user_id  \\\n",
       "0         2       33120                  1          1          2   202279   \n",
       "1         2       28985                  2          1          2   202279   \n",
       "2         2        9327                  3          0          2   202279   \n",
       "3         2       45918                  4          1          2   202279   \n",
       "4         2       30035                  5          0          2   202279   \n",
       "\n",
       "  eval_set  order_number  order_dow  order_hour_of_day  days_since_prior_order  \n",
       "0    prior             3          5                  9                     8.0  \n",
       "1    prior             3          5                  9                     8.0  \n",
       "2    prior             3          5                  9                     8.0  \n",
       "3    prior             3          5                  9                     8.0  \n",
       "4    prior             3          5                  9                     8.0  "
      ]
     },
     "execution_count": 26,
     "metadata": {},
     "output_type": "execute_result"
    }
   ],
   "source": [
    "print('add order info to priors')\n",
    "orders.set_index('order_id', inplace=True, drop=False)\n",
    "priors = priors.join(orders, on='order_id', rsuffix='_')\n",
    "priors.drop('order_id_', inplace=True, axis=1)\n",
    "priors.head()"
   ]
  },
  {
   "cell_type": "code",
   "execution_count": 50,
   "metadata": {},
   "outputs": [
    {
     "data": {
      "text/plain": [
       "(user_id\n",
       " 1     11\n",
       " 2     15\n",
       " 3     13\n",
       " 4      6\n",
       " 5      5\n",
       " 6      4\n",
       " 7     21\n",
       " 8      4\n",
       " 9      4\n",
       " 10     6\n",
       " dtype: int64, user_id\n",
       " 206200    24\n",
       " 206201    33\n",
       " 206202    23\n",
       " 206203     6\n",
       " 206204     5\n",
       " 206205     4\n",
       " 206206    68\n",
       " 206207    17\n",
       " 206208    50\n",
       " 206209    14\n",
       " dtype: int64)"
      ]
     },
     "execution_count": 50,
     "metadata": {},
     "output_type": "execute_result"
    }
   ],
   "source": [
    "orders.groupby('user_id').size().head(10), orders.groupby('user_id').size().tail(10)"
   ]
  },
  {
   "cell_type": "code",
   "execution_count": 49,
   "metadata": {},
   "outputs": [
    {
     "data": {
      "text/plain": [
       "(user_id\n",
       " 1      59\n",
       " 2     195\n",
       " 3      88\n",
       " 4      18\n",
       " 5      37\n",
       " 6      14\n",
       " 7     206\n",
       " 8      49\n",
       " 9      76\n",
       " 10    143\n",
       " dtype: int64, user_id\n",
       " 206200    279\n",
       " 206201    404\n",
       " 206202    198\n",
       " 206203    119\n",
       " 206204     54\n",
       " 206205     32\n",
       " 206206    285\n",
       " 206207    223\n",
       " 206208    677\n",
       " 206209    129\n",
       " dtype: int64)"
      ]
     },
     "execution_count": 49,
     "metadata": {},
     "output_type": "execute_result"
    }
   ],
   "source": [
    "priors.groupby('user_id').size().head(10), priors.groupby('user_id').size().tail(10)"
   ]
  },
  {
   "cell_type": "code",
   "execution_count": 58,
   "metadata": {},
   "outputs": [
    {
     "name": "stdout",
     "output_type": "stream",
     "text": [
      "computing user f\n",
      "user f (206209, 6)\n"
     ]
    }
   ],
   "source": [
    "### user features\n",
    "\n",
    "print('computing user f')\n",
    "users = pd.DataFrame()\n",
    "users['average_days_between_orders'] = orders.groupby('user_id')['days_since_prior_order'].mean().astype(np.float32)\n",
    "users['nb_orders'] = orders.groupby('user_id').size().astype(np.int16) # orders data gives user_id, order_id\n",
    "users['total_items'] = priors.groupby('user_id').size().astype(np.int16) # priors data gives order_id, product_id\n",
    "users['all_products'] = priors.groupby('user_id')['product_id'].apply(set)\n",
    "users['num_distinct_items'] = (users.all_products.map(len)).astype(np.int16)\n",
    "users['average_basket'] = (users.total_items / users.nb_orders).astype(np.float32)\n",
    "print('user f', users.shape)"
   ]
  },
  {
   "cell_type": "code",
   "execution_count": 68,
   "metadata": {},
   "outputs": [
    {
     "name": "stdout",
     "output_type": "stream",
     "text": [
      "compute userXproduct f - this is long...\n"
     ]
    }
   ],
   "source": [
    "### userXproduct features\n",
    "\n",
    "print('compute userXproduct f - this is long...')\n",
    "priors['user_product'] = priors.product_id + priors.user_id * 100000"
   ]
  },
  {
   "cell_type": "code",
   "execution_count": 70,
   "metadata": {
    "collapsed": true
   },
   "outputs": [],
   "source": [
    "# For each (user_id , product_id) pair, \n",
    "## count number of occurences of this pair\n",
    "## latest, max(order_number, order_id)\n",
    "## accumulated add_to_cart_order\n",
    "\n",
    "d = dict()\n",
    "for row in priors.itertuples():\n",
    "    z = row.user_product\n",
    "    if z not in d:\n",
    "        d[z] = (1, \\\n",
    "                (row.order_number, row.order_id), \\\n",
    "                row.add_to_cart_order)\n",
    "    else:\n",
    "        d[z] = (d[z][0] + 1, \\\n",
    "                max(d[z][1], (row.order_number, row.order_id)), \\\n",
    "                d[z][2] + row.add_to_cart_order)\n",
    "\n",
    "print('to dataframe (less memory)')\n",
    "userXproduct = pd.DataFrame.from_dict(d, orient='index')"
   ]
  },
  {
   "cell_type": "code",
   "execution_count": 77,
   "metadata": {},
   "outputs": [
    {
     "name": "stdout",
     "output_type": "stream",
     "text": [
      "to dataframe (less memory)\n",
      "user X product f 13293564\n"
     ]
    },
    {
     "data": {
      "text/html": [
       "<div>\n",
       "<style>\n",
       "    .dataframe thead tr:only-child th {\n",
       "        text-align: right;\n",
       "    }\n",
       "\n",
       "    .dataframe thead th {\n",
       "        text-align: left;\n",
       "    }\n",
       "\n",
       "    .dataframe tbody tr th {\n",
       "        vertical-align: top;\n",
       "    }\n",
       "</style>\n",
       "<table border=\"1\" class=\"dataframe\">\n",
       "  <thead>\n",
       "    <tr style=\"text-align: right;\">\n",
       "      <th></th>\n",
       "      <th>nb_orders</th>\n",
       "      <th>last_order_id</th>\n",
       "      <th>sum_pos_in_cart</th>\n",
       "    </tr>\n",
       "  </thead>\n",
       "  <tbody>\n",
       "    <tr>\n",
       "      <th>-1246903360</th>\n",
       "      <td>5</td>\n",
       "      <td>104690</td>\n",
       "      <td>10</td>\n",
       "    </tr>\n",
       "    <tr>\n",
       "      <th>-1246907495</th>\n",
       "      <td>5</td>\n",
       "      <td>132412</td>\n",
       "      <td>16</td>\n",
       "    </tr>\n",
       "    <tr>\n",
       "      <th>-1246927153</th>\n",
       "      <td>1</td>\n",
       "      <td>2</td>\n",
       "      <td>3</td>\n",
       "    </tr>\n",
       "    <tr>\n",
       "      <th>-1246890562</th>\n",
       "      <td>5</td>\n",
       "      <td>2382766</td>\n",
       "      <td>24</td>\n",
       "    </tr>\n",
       "    <tr>\n",
       "      <th>-1246906445</th>\n",
       "      <td>3</td>\n",
       "      <td>2382766</td>\n",
       "      <td>14</td>\n",
       "    </tr>\n",
       "  </tbody>\n",
       "</table>\n",
       "</div>"
      ],
      "text/plain": [
       "             nb_orders  last_order_id  sum_pos_in_cart\n",
       "-1246903360          5         104690               10\n",
       "-1246907495          5         132412               16\n",
       "-1246927153          1              2                3\n",
       "-1246890562          5        2382766               24\n",
       "-1246906445          3        2382766               14"
      ]
     },
     "execution_count": 77,
     "metadata": {},
     "output_type": "execute_result"
    }
   ],
   "source": [
    "print('to dataframe (less memory)')\n",
    "userXproduct = pd.DataFrame.from_dict(d, orient='index')\n",
    "del d\n",
    "userXproduct.columns = ['nb_orders', 'last_order_id', 'sum_pos_in_cart']\n",
    "userXproduct.nb_orders = userXproduct.nb_orders.astype(np.int16)\n",
    "userXproduct.last_order_id = userXproduct.last_order_id.map(lambda x: x[1]).astype(np.int32)\n",
    "userXproduct.sum_pos_in_cart = userXproduct.sum_pos_in_cart.astype(np.int16)\n",
    "print('user X product f', len(userXproduct))\n",
    "userXproduct.head()"
   ]
  },
  {
   "cell_type": "code",
   "execution_count": 119,
   "metadata": {},
   "outputs": [
    {
     "name": "stdout",
     "output_type": "stream",
     "text": [
      "split orders : train, test\n"
     ]
    }
   ],
   "source": [
    "### train / test orders ###\n",
    "print('split orders : train, test')\n",
    "test_orders = orders[orders.eval_set == 'test']\n",
    "train_orders = orders[orders.eval_set == 'train']\n",
    "prior_orders = orders[orders.eval_set == 'prior']\n",
    "\n",
    "train.set_index(['order_id', 'product_id'], inplace=True, drop=False)\n",
    "priors.set_index(['order_id', 'product_id'], inplace=True, drop=False)"
   ]
  },
  {
   "cell_type": "code",
   "execution_count": 126,
   "metadata": {
    "collapsed": true
   },
   "outputs": [],
   "source": [
    "### Build list of candidate products to reorder, with features ###\n",
    "\n",
    "def features(selected_orders, labels_given=False):\n",
    "    print('build candidate list')\n",
    "    order_list = []\n",
    "    product_list = []\n",
    "    labels = []\n",
    "    i=0\n",
    "    for row in selected_orders.itertuples():\n",
    "        i+=1\n",
    "        if i%10000 == 0: print('order row',i)\n",
    "        order_id = row.order_id\n",
    "        user_id = row.user_id\n",
    "        user_products = users.all_products[user_id]\n",
    "        product_list += user_products\n",
    "        order_list += [order_id] * len(user_products)\n",
    "        if labels_given:\n",
    "            labels += [(order_id, product) in train.index for product in user_products]\n",
    "        \n",
    "    df = pd.DataFrame({'order_id':order_list, 'product_id':product_list}, dtype=np.int32)\n",
    "    labels = np.array(labels, dtype=np.int8)\n",
    "    del order_list\n",
    "    del product_list\n",
    "    \n",
    "    print('user related features')\n",
    "    df['user_id'] = df.order_id.map(orders.user_id)\n",
    "    df['user_total_orders'] = df.user_id.map(users.nb_orders)\n",
    "    df['user_total_items'] = df.user_id.map(users.total_items)\n",
    "    df['total_distinct_items'] = df.user_id.map(users.total_distinct_items)\n",
    "    df['user_average_days_between_orders'] = df.user_id.map(users.average_days_between_orders)\n",
    "    df['user_average_basket'] =  df.user_id.map(users.average_basket)\n",
    "    \n",
    "    print('order related features')\n",
    "    # df['dow'] = df.order_id.map(orders.order_dow)\n",
    "    df['order_hour_of_day'] = df.order_id.map(orders.order_hour_of_day)\n",
    "    df['days_since_prior_order'] = df.order_id.map(orders.days_since_prior_order)\n",
    "    df['days_since_ratio'] = df.days_since_prior_order / df.user_average_days_between_orders\n",
    "    \n",
    "    print('product related features')\n",
    "    df['aisle_id'] = df.product_id.map(products.aisle_id)\n",
    "    df['department_id'] = df.product_id.map(products.department_id)\n",
    "    df['product_orders'] = df.product_id.map(products.orders).astype(np.int32)\n",
    "    df['product_reorders'] = df.product_id.map(products.reorders)\n",
    "    df['product_reorder_rate'] = df.product_id.map(products.reorder_rate)\n",
    "\n",
    "    print('user_X_product related features')\n",
    "    df['z'] = df.user_id * 100000 + df.product_id\n",
    "    df.drop(['user_id'], axis=1, inplace=True)\n",
    "    df['UP_orders'] = df.z.map(userXproduct.nb_orders)\n",
    "    df['UP_orders_ratio'] = (df.UP_orders / df.user_total_orders).astype(np.float32)\n",
    "    df['UP_last_order_id'] = df.z.map(userXproduct.last_order_id)\n",
    "    df['UP_average_pos_in_cart'] = (df.z.map(userXproduct.sum_pos_in_cart) / df.UP_orders).astype(np.float32)\n",
    "    df['UP_reorder_rate'] = (df.UP_orders / df.user_total_orders).astype(np.float32)\n",
    "    df['UP_orders_since_last'] = df.user_total_orders - df.UP_last_order_id.map(orders.order_number)\n",
    "    df['UP_delta_hour_vs_last'] = abs(df.order_hour_of_day - df.UP_last_order_id.map(orders.order_hour_of_day)).map(lambda x: min(x, 24-x)).astype(np.int8)\n",
    "    #df['UP_same_dow_as_last_order'] = df.UP_last_order_id.map(orders.order_dow) == \\\n",
    "    #                                              df.order_id.map(orders.order_dow)\n",
    "\n",
    "    df.drop(['UP_last_order_id', 'z'], axis=1, inplace=True)\n",
    "    print(df.dtypes)\n",
    "    print(df.memory_usage())\n",
    "    return (df, labels)"
   ]
  },
  {
   "cell_type": "code",
   "execution_count": 127,
   "metadata": {},
   "outputs": [
    {
     "name": "stdout",
     "output_type": "stream",
     "text": [
      "build candidate list\n"
     ]
    },
    {
     "ename": "KeyboardInterrupt",
     "evalue": "",
     "output_type": "error",
     "traceback": [
      "\u001b[0;31m---------------------------------------------------------------------------\u001b[0m",
      "\u001b[0;31mKeyboardInterrupt\u001b[0m                         Traceback (most recent call last)",
      "\u001b[0;32m<timed exec>\u001b[0m in \u001b[0;36m<module>\u001b[0;34m()\u001b[0m\n",
      "\u001b[0;32m<ipython-input-126-021ad5b9b958>\u001b[0m in \u001b[0;36mfeatures\u001b[0;34m(selected_orders, labels_given)\u001b[0m\n\u001b[1;32m     16\u001b[0m         \u001b[0morder_list\u001b[0m \u001b[0;34m+=\u001b[0m \u001b[0;34m[\u001b[0m\u001b[0morder_id\u001b[0m\u001b[0;34m]\u001b[0m \u001b[0;34m*\u001b[0m \u001b[0mlen\u001b[0m\u001b[0;34m(\u001b[0m\u001b[0muser_products\u001b[0m\u001b[0;34m)\u001b[0m\u001b[0;34m\u001b[0m\u001b[0m\n\u001b[1;32m     17\u001b[0m         \u001b[0;32mif\u001b[0m \u001b[0mlabels_given\u001b[0m\u001b[0;34m:\u001b[0m\u001b[0;34m\u001b[0m\u001b[0m\n\u001b[0;32m---> 18\u001b[0;31m             \u001b[0mlabels\u001b[0m \u001b[0;34m+=\u001b[0m \u001b[0;34m[\u001b[0m\u001b[0;34m(\u001b[0m\u001b[0morder_id\u001b[0m\u001b[0;34m,\u001b[0m \u001b[0mproduct\u001b[0m\u001b[0;34m)\u001b[0m \u001b[0;32min\u001b[0m \u001b[0mtrain\u001b[0m\u001b[0;34m.\u001b[0m\u001b[0mindex\u001b[0m \u001b[0;32mfor\u001b[0m \u001b[0mproduct\u001b[0m \u001b[0;32min\u001b[0m \u001b[0muser_products\u001b[0m\u001b[0;34m]\u001b[0m\u001b[0;34m\u001b[0m\u001b[0m\n\u001b[0m\u001b[1;32m     19\u001b[0m \u001b[0;34m\u001b[0m\u001b[0m\n\u001b[1;32m     20\u001b[0m     \u001b[0mdf\u001b[0m \u001b[0;34m=\u001b[0m \u001b[0mpd\u001b[0m\u001b[0;34m.\u001b[0m\u001b[0mDataFrame\u001b[0m\u001b[0;34m(\u001b[0m\u001b[0;34m{\u001b[0m\u001b[0;34m'order_id'\u001b[0m\u001b[0;34m:\u001b[0m\u001b[0morder_list\u001b[0m\u001b[0;34m,\u001b[0m \u001b[0;34m'product_id'\u001b[0m\u001b[0;34m:\u001b[0m\u001b[0mproduct_list\u001b[0m\u001b[0;34m}\u001b[0m\u001b[0;34m,\u001b[0m \u001b[0mdtype\u001b[0m\u001b[0;34m=\u001b[0m\u001b[0mnp\u001b[0m\u001b[0;34m.\u001b[0m\u001b[0mint32\u001b[0m\u001b[0;34m)\u001b[0m\u001b[0;34m\u001b[0m\u001b[0m\n",
      "\u001b[0;32m<ipython-input-126-021ad5b9b958>\u001b[0m in \u001b[0;36m<listcomp>\u001b[0;34m(.0)\u001b[0m\n\u001b[1;32m     16\u001b[0m         \u001b[0morder_list\u001b[0m \u001b[0;34m+=\u001b[0m \u001b[0;34m[\u001b[0m\u001b[0morder_id\u001b[0m\u001b[0;34m]\u001b[0m \u001b[0;34m*\u001b[0m \u001b[0mlen\u001b[0m\u001b[0;34m(\u001b[0m\u001b[0muser_products\u001b[0m\u001b[0;34m)\u001b[0m\u001b[0;34m\u001b[0m\u001b[0m\n\u001b[1;32m     17\u001b[0m         \u001b[0;32mif\u001b[0m \u001b[0mlabels_given\u001b[0m\u001b[0;34m:\u001b[0m\u001b[0;34m\u001b[0m\u001b[0m\n\u001b[0;32m---> 18\u001b[0;31m             \u001b[0mlabels\u001b[0m \u001b[0;34m+=\u001b[0m \u001b[0;34m[\u001b[0m\u001b[0;34m(\u001b[0m\u001b[0morder_id\u001b[0m\u001b[0;34m,\u001b[0m \u001b[0mproduct\u001b[0m\u001b[0;34m)\u001b[0m \u001b[0;32min\u001b[0m \u001b[0mtrain\u001b[0m\u001b[0;34m.\u001b[0m\u001b[0mindex\u001b[0m \u001b[0;32mfor\u001b[0m \u001b[0mproduct\u001b[0m \u001b[0;32min\u001b[0m \u001b[0muser_products\u001b[0m\u001b[0;34m]\u001b[0m\u001b[0;34m\u001b[0m\u001b[0m\n\u001b[0m\u001b[1;32m     19\u001b[0m \u001b[0;34m\u001b[0m\u001b[0m\n\u001b[1;32m     20\u001b[0m     \u001b[0mdf\u001b[0m \u001b[0;34m=\u001b[0m \u001b[0mpd\u001b[0m\u001b[0;34m.\u001b[0m\u001b[0mDataFrame\u001b[0m\u001b[0;34m(\u001b[0m\u001b[0;34m{\u001b[0m\u001b[0;34m'order_id'\u001b[0m\u001b[0;34m:\u001b[0m\u001b[0morder_list\u001b[0m\u001b[0;34m,\u001b[0m \u001b[0;34m'product_id'\u001b[0m\u001b[0;34m:\u001b[0m\u001b[0mproduct_list\u001b[0m\u001b[0;34m}\u001b[0m\u001b[0;34m,\u001b[0m \u001b[0mdtype\u001b[0m\u001b[0;34m=\u001b[0m\u001b[0mnp\u001b[0m\u001b[0;34m.\u001b[0m\u001b[0mint32\u001b[0m\u001b[0;34m)\u001b[0m\u001b[0;34m\u001b[0m\u001b[0m\n",
      "\u001b[0;32m/Library/Frameworks/Python.framework/Versions/3.6/lib/python3.6/site-packages/pandas/core/indexes/multi.py\u001b[0m in \u001b[0;36m__contains__\u001b[0;34m(self, key)\u001b[0m\n\u001b[1;32m   1326\u001b[0m         \u001b[0mhash\u001b[0m\u001b[0;34m(\u001b[0m\u001b[0mkey\u001b[0m\u001b[0;34m)\u001b[0m\u001b[0;34m\u001b[0m\u001b[0m\n\u001b[1;32m   1327\u001b[0m         \u001b[0;32mtry\u001b[0m\u001b[0;34m:\u001b[0m\u001b[0;34m\u001b[0m\u001b[0m\n\u001b[0;32m-> 1328\u001b[0;31m             \u001b[0mself\u001b[0m\u001b[0;34m.\u001b[0m\u001b[0mget_loc\u001b[0m\u001b[0;34m(\u001b[0m\u001b[0mkey\u001b[0m\u001b[0;34m)\u001b[0m\u001b[0;34m\u001b[0m\u001b[0m\n\u001b[0m\u001b[1;32m   1329\u001b[0m             \u001b[0;32mreturn\u001b[0m \u001b[0;32mTrue\u001b[0m\u001b[0;34m\u001b[0m\u001b[0m\n\u001b[1;32m   1330\u001b[0m         \u001b[0;32mexcept\u001b[0m \u001b[0mLookupError\u001b[0m\u001b[0;34m:\u001b[0m\u001b[0;34m\u001b[0m\u001b[0m\n",
      "\u001b[0;32m/Library/Frameworks/Python.framework/Versions/3.6/lib/python3.6/site-packages/pandas/core/indexes/multi.py\u001b[0m in \u001b[0;36mget_loc\u001b[0;34m(self, key, method)\u001b[0m\n\u001b[1;32m   1984\u001b[0m             \u001b[0mkey\u001b[0m \u001b[0;34m=\u001b[0m \u001b[0m_values_from_object\u001b[0m\u001b[0;34m(\u001b[0m\u001b[0mkey\u001b[0m\u001b[0;34m)\u001b[0m\u001b[0;34m\u001b[0m\u001b[0m\n\u001b[1;32m   1985\u001b[0m             \u001b[0mkey\u001b[0m \u001b[0;34m=\u001b[0m \u001b[0mtuple\u001b[0m\u001b[0;34m(\u001b[0m\u001b[0mmap\u001b[0m\u001b[0;34m(\u001b[0m\u001b[0m_maybe_str_to_time_stamp\u001b[0m\u001b[0;34m,\u001b[0m \u001b[0mkey\u001b[0m\u001b[0;34m,\u001b[0m \u001b[0mself\u001b[0m\u001b[0;34m.\u001b[0m\u001b[0mlevels\u001b[0m\u001b[0;34m)\u001b[0m\u001b[0;34m)\u001b[0m\u001b[0;34m\u001b[0m\u001b[0m\n\u001b[0;32m-> 1986\u001b[0;31m             \u001b[0;32mreturn\u001b[0m \u001b[0mself\u001b[0m\u001b[0;34m.\u001b[0m\u001b[0m_engine\u001b[0m\u001b[0;34m.\u001b[0m\u001b[0mget_loc\u001b[0m\u001b[0;34m(\u001b[0m\u001b[0mkey\u001b[0m\u001b[0;34m)\u001b[0m\u001b[0;34m\u001b[0m\u001b[0m\n\u001b[0m\u001b[1;32m   1987\u001b[0m \u001b[0;34m\u001b[0m\u001b[0m\n\u001b[1;32m   1988\u001b[0m         \u001b[0;31m# -- partial selection or non-unique index\u001b[0m\u001b[0;34m\u001b[0m\u001b[0;34m\u001b[0m\u001b[0m\n",
      "\u001b[0;32mpandas/_libs/index.pyx\u001b[0m in \u001b[0;36mpandas._libs.index.MultiIndexEngine.get_loc (pandas/_libs/index.c:13171)\u001b[0;34m()\u001b[0m\n",
      "\u001b[0;32mpandas/_libs/index.pyx\u001b[0m in \u001b[0;36mpandas._libs.index.MultiIndexEngine.get_loc (pandas/_libs/index.c:13018)\u001b[0;34m()\u001b[0m\n",
      "\u001b[0;32mpandas/_libs/hashtable_class_helper.pxi\u001b[0m in \u001b[0;36mpandas._libs.hashtable.MultiIndexHashTable.get_item (pandas/_libs/hashtable.c:23641)\u001b[0;34m()\u001b[0m\n",
      "\u001b[0;32mpandas/_libs/hashtable_class_helper.pxi\u001b[0m in \u001b[0;36mpandas._libs.hashtable.MultiIndexHashTable.get_item (pandas/_libs/hashtable.c:23390)\u001b[0;34m()\u001b[0m\n",
      "\u001b[0;32m/Library/Frameworks/Python.framework/Versions/3.6/lib/python3.6/site-packages/pandas/core/indexes/multi.py\u001b[0m in \u001b[0;36m_hashed_indexing_key\u001b[0;34m(self, key)\u001b[0m\n\u001b[1;32m    755\u001b[0m         key = tuple([f(k, stringify)\n\u001b[1;32m    756\u001b[0m                      for k, stringify in zip(key, self._have_mixed_levels)])\n\u001b[0;32m--> 757\u001b[0;31m         \u001b[0;32mreturn\u001b[0m \u001b[0mhash_tuples\u001b[0m\u001b[0;34m(\u001b[0m\u001b[0mkey\u001b[0m\u001b[0;34m)\u001b[0m\u001b[0;34m\u001b[0m\u001b[0m\n\u001b[0m\u001b[1;32m    758\u001b[0m \u001b[0;34m\u001b[0m\u001b[0m\n\u001b[1;32m    759\u001b[0m     \u001b[0;34m@\u001b[0m\u001b[0mAppender\u001b[0m\u001b[0;34m(\u001b[0m\u001b[0mbase\u001b[0m\u001b[0;34m.\u001b[0m\u001b[0m_shared_docs\u001b[0m\u001b[0;34m[\u001b[0m\u001b[0;34m'duplicated'\u001b[0m\u001b[0;34m]\u001b[0m \u001b[0;34m%\u001b[0m \u001b[0m_index_doc_kwargs\u001b[0m\u001b[0;34m)\u001b[0m\u001b[0;34m\u001b[0m\u001b[0m\n",
      "\u001b[0;32m/Library/Frameworks/Python.framework/Versions/3.6/lib/python3.6/site-packages/pandas/core/util/hashing.py\u001b[0m in \u001b[0;36mhash_tuples\u001b[0;34m(vals, encoding, hash_key)\u001b[0m\n\u001b[1;32m    148\u001b[0m \u001b[0;34m\u001b[0m\u001b[0m\n\u001b[1;32m    149\u001b[0m     \u001b[0;32mif\u001b[0m \u001b[0;32mnot\u001b[0m \u001b[0misinstance\u001b[0m\u001b[0;34m(\u001b[0m\u001b[0mvals\u001b[0m\u001b[0;34m,\u001b[0m \u001b[0mABCMultiIndex\u001b[0m\u001b[0;34m)\u001b[0m\u001b[0;34m:\u001b[0m\u001b[0;34m\u001b[0m\u001b[0m\n\u001b[0;32m--> 150\u001b[0;31m         \u001b[0mvals\u001b[0m \u001b[0;34m=\u001b[0m \u001b[0mMultiIndex\u001b[0m\u001b[0;34m.\u001b[0m\u001b[0mfrom_tuples\u001b[0m\u001b[0;34m(\u001b[0m\u001b[0mvals\u001b[0m\u001b[0;34m)\u001b[0m\u001b[0;34m\u001b[0m\u001b[0m\n\u001b[0m\u001b[1;32m    151\u001b[0m \u001b[0;34m\u001b[0m\u001b[0m\n\u001b[1;32m    152\u001b[0m     \u001b[0;31m# create a list-of-Categoricals\u001b[0m\u001b[0;34m\u001b[0m\u001b[0;34m\u001b[0m\u001b[0m\n",
      "\u001b[0;32m/Library/Frameworks/Python.framework/Versions/3.6/lib/python3.6/site-packages/pandas/core/indexes/multi.py\u001b[0m in \u001b[0;36mfrom_tuples\u001b[0;34m(cls, tuples, sortorder, names)\u001b[0m\n\u001b[1;32m   1134\u001b[0m             \u001b[0marrays\u001b[0m \u001b[0;34m=\u001b[0m \u001b[0mlzip\u001b[0m\u001b[0;34m(\u001b[0m\u001b[0;34m*\u001b[0m\u001b[0mtuples\u001b[0m\u001b[0;34m)\u001b[0m\u001b[0;34m\u001b[0m\u001b[0m\n\u001b[1;32m   1135\u001b[0m \u001b[0;34m\u001b[0m\u001b[0m\n\u001b[0;32m-> 1136\u001b[0;31m         \u001b[0;32mreturn\u001b[0m \u001b[0mMultiIndex\u001b[0m\u001b[0;34m.\u001b[0m\u001b[0mfrom_arrays\u001b[0m\u001b[0;34m(\u001b[0m\u001b[0marrays\u001b[0m\u001b[0;34m,\u001b[0m \u001b[0msortorder\u001b[0m\u001b[0;34m=\u001b[0m\u001b[0msortorder\u001b[0m\u001b[0;34m,\u001b[0m \u001b[0mnames\u001b[0m\u001b[0;34m=\u001b[0m\u001b[0mnames\u001b[0m\u001b[0;34m)\u001b[0m\u001b[0;34m\u001b[0m\u001b[0m\n\u001b[0m\u001b[1;32m   1137\u001b[0m \u001b[0;34m\u001b[0m\u001b[0m\n\u001b[1;32m   1138\u001b[0m     \u001b[0;34m@\u001b[0m\u001b[0mclassmethod\u001b[0m\u001b[0;34m\u001b[0m\u001b[0m\n",
      "\u001b[0;32m/Library/Frameworks/Python.framework/Versions/3.6/lib/python3.6/site-packages/pandas/core/indexes/multi.py\u001b[0m in \u001b[0;36mfrom_arrays\u001b[0;34m(cls, arrays, sortorder, names)\u001b[0m\n\u001b[1;32m   1084\u001b[0m         \u001b[0;32mfrom\u001b[0m \u001b[0mpandas\u001b[0m\u001b[0;34m.\u001b[0m\u001b[0mcore\u001b[0m\u001b[0;34m.\u001b[0m\u001b[0mcategorical\u001b[0m \u001b[0;32mimport\u001b[0m \u001b[0m_factorize_from_iterables\u001b[0m\u001b[0;34m\u001b[0m\u001b[0m\n\u001b[1;32m   1085\u001b[0m \u001b[0;34m\u001b[0m\u001b[0m\n\u001b[0;32m-> 1086\u001b[0;31m         \u001b[0mlabels\u001b[0m\u001b[0;34m,\u001b[0m \u001b[0mlevels\u001b[0m \u001b[0;34m=\u001b[0m \u001b[0m_factorize_from_iterables\u001b[0m\u001b[0;34m(\u001b[0m\u001b[0marrays\u001b[0m\u001b[0;34m)\u001b[0m\u001b[0;34m\u001b[0m\u001b[0m\n\u001b[0m\u001b[1;32m   1087\u001b[0m         \u001b[0;32mif\u001b[0m \u001b[0mnames\u001b[0m \u001b[0;32mis\u001b[0m \u001b[0;32mNone\u001b[0m\u001b[0;34m:\u001b[0m\u001b[0;34m\u001b[0m\u001b[0m\n\u001b[1;32m   1088\u001b[0m             \u001b[0mnames\u001b[0m \u001b[0;34m=\u001b[0m \u001b[0;34m[\u001b[0m\u001b[0mgetattr\u001b[0m\u001b[0;34m(\u001b[0m\u001b[0marr\u001b[0m\u001b[0;34m,\u001b[0m \u001b[0;34m\"name\"\u001b[0m\u001b[0;34m,\u001b[0m \u001b[0;32mNone\u001b[0m\u001b[0;34m)\u001b[0m \u001b[0;32mfor\u001b[0m \u001b[0marr\u001b[0m \u001b[0;32min\u001b[0m \u001b[0marrays\u001b[0m\u001b[0;34m]\u001b[0m\u001b[0;34m\u001b[0m\u001b[0m\n",
      "\u001b[0;32m/Library/Frameworks/Python.framework/Versions/3.6/lib/python3.6/site-packages/pandas/core/categorical.py\u001b[0m in \u001b[0;36m_factorize_from_iterables\u001b[0;34m(iterables)\u001b[0m\n\u001b[1;32m   2170\u001b[0m         \u001b[0;31m# For consistency, it should return a list of 2 lists.\u001b[0m\u001b[0;34m\u001b[0m\u001b[0;34m\u001b[0m\u001b[0m\n\u001b[1;32m   2171\u001b[0m         \u001b[0;32mreturn\u001b[0m \u001b[0;34m[\u001b[0m\u001b[0;34m[\u001b[0m\u001b[0;34m]\u001b[0m\u001b[0;34m,\u001b[0m \u001b[0;34m[\u001b[0m\u001b[0;34m]\u001b[0m\u001b[0;34m]\u001b[0m\u001b[0;34m\u001b[0m\u001b[0m\n\u001b[0;32m-> 2172\u001b[0;31m     \u001b[0;32mreturn\u001b[0m \u001b[0mmap\u001b[0m\u001b[0;34m(\u001b[0m\u001b[0mlist\u001b[0m\u001b[0;34m,\u001b[0m \u001b[0mlzip\u001b[0m\u001b[0;34m(\u001b[0m\u001b[0;34m*\u001b[0m\u001b[0;34m[\u001b[0m\u001b[0m_factorize_from_iterable\u001b[0m\u001b[0;34m(\u001b[0m\u001b[0mit\u001b[0m\u001b[0;34m)\u001b[0m \u001b[0;32mfor\u001b[0m \u001b[0mit\u001b[0m \u001b[0;32min\u001b[0m \u001b[0miterables\u001b[0m\u001b[0;34m]\u001b[0m\u001b[0;34m)\u001b[0m\u001b[0;34m)\u001b[0m\u001b[0;34m\u001b[0m\u001b[0m\n\u001b[0m",
      "\u001b[0;32m/Library/Frameworks/Python.framework/Versions/3.6/lib/python3.6/site-packages/pandas/core/categorical.py\u001b[0m in \u001b[0;36m<listcomp>\u001b[0;34m(.0)\u001b[0m\n\u001b[1;32m   2170\u001b[0m         \u001b[0;31m# For consistency, it should return a list of 2 lists.\u001b[0m\u001b[0;34m\u001b[0m\u001b[0;34m\u001b[0m\u001b[0m\n\u001b[1;32m   2171\u001b[0m         \u001b[0;32mreturn\u001b[0m \u001b[0;34m[\u001b[0m\u001b[0;34m[\u001b[0m\u001b[0;34m]\u001b[0m\u001b[0;34m,\u001b[0m \u001b[0;34m[\u001b[0m\u001b[0;34m]\u001b[0m\u001b[0;34m]\u001b[0m\u001b[0;34m\u001b[0m\u001b[0m\n\u001b[0;32m-> 2172\u001b[0;31m     \u001b[0;32mreturn\u001b[0m \u001b[0mmap\u001b[0m\u001b[0;34m(\u001b[0m\u001b[0mlist\u001b[0m\u001b[0;34m,\u001b[0m \u001b[0mlzip\u001b[0m\u001b[0;34m(\u001b[0m\u001b[0;34m*\u001b[0m\u001b[0;34m[\u001b[0m\u001b[0m_factorize_from_iterable\u001b[0m\u001b[0;34m(\u001b[0m\u001b[0mit\u001b[0m\u001b[0;34m)\u001b[0m \u001b[0;32mfor\u001b[0m \u001b[0mit\u001b[0m \u001b[0;32min\u001b[0m \u001b[0miterables\u001b[0m\u001b[0;34m]\u001b[0m\u001b[0;34m)\u001b[0m\u001b[0;34m)\u001b[0m\u001b[0;34m\u001b[0m\u001b[0m\n\u001b[0m",
      "\u001b[0;32m/Library/Frameworks/Python.framework/Versions/3.6/lib/python3.6/site-packages/pandas/core/categorical.py\u001b[0m in \u001b[0;36m_factorize_from_iterable\u001b[0;34m(values)\u001b[0m\n\u001b[1;32m   2142\u001b[0m         \u001b[0mcodes\u001b[0m \u001b[0;34m=\u001b[0m \u001b[0mvalues\u001b[0m\u001b[0;34m.\u001b[0m\u001b[0mcodes\u001b[0m\u001b[0;34m\u001b[0m\u001b[0m\n\u001b[1;32m   2143\u001b[0m     \u001b[0;32melse\u001b[0m\u001b[0;34m:\u001b[0m\u001b[0;34m\u001b[0m\u001b[0m\n\u001b[0;32m-> 2144\u001b[0;31m         \u001b[0mcat\u001b[0m \u001b[0;34m=\u001b[0m \u001b[0mCategorical\u001b[0m\u001b[0;34m(\u001b[0m\u001b[0mvalues\u001b[0m\u001b[0;34m,\u001b[0m \u001b[0mordered\u001b[0m\u001b[0;34m=\u001b[0m\u001b[0;32mTrue\u001b[0m\u001b[0;34m)\u001b[0m\u001b[0;34m\u001b[0m\u001b[0m\n\u001b[0m\u001b[1;32m   2145\u001b[0m         \u001b[0mcategories\u001b[0m \u001b[0;34m=\u001b[0m \u001b[0mcat\u001b[0m\u001b[0;34m.\u001b[0m\u001b[0mcategories\u001b[0m\u001b[0;34m\u001b[0m\u001b[0m\n\u001b[1;32m   2146\u001b[0m         \u001b[0mcodes\u001b[0m \u001b[0;34m=\u001b[0m \u001b[0mcat\u001b[0m\u001b[0;34m.\u001b[0m\u001b[0mcodes\u001b[0m\u001b[0;34m\u001b[0m\u001b[0m\n",
      "\u001b[0;32m/Library/Frameworks/Python.framework/Versions/3.6/lib/python3.6/site-packages/pandas/core/categorical.py\u001b[0m in \u001b[0;36m__init__\u001b[0;34m(self, values, categories, ordered, fastpath)\u001b[0m\n\u001b[1;32m    282\u001b[0m         \u001b[0;32mif\u001b[0m \u001b[0mcategories\u001b[0m \u001b[0;32mis\u001b[0m \u001b[0;32mNone\u001b[0m\u001b[0;34m:\u001b[0m\u001b[0;34m\u001b[0m\u001b[0m\n\u001b[1;32m    283\u001b[0m             \u001b[0;32mtry\u001b[0m\u001b[0;34m:\u001b[0m\u001b[0;34m\u001b[0m\u001b[0m\n\u001b[0;32m--> 284\u001b[0;31m                 \u001b[0mcodes\u001b[0m\u001b[0;34m,\u001b[0m \u001b[0mcategories\u001b[0m \u001b[0;34m=\u001b[0m \u001b[0mfactorize\u001b[0m\u001b[0;34m(\u001b[0m\u001b[0mvalues\u001b[0m\u001b[0;34m,\u001b[0m \u001b[0msort\u001b[0m\u001b[0;34m=\u001b[0m\u001b[0;32mTrue\u001b[0m\u001b[0;34m)\u001b[0m\u001b[0;34m\u001b[0m\u001b[0m\n\u001b[0m\u001b[1;32m    285\u001b[0m             \u001b[0;32mexcept\u001b[0m \u001b[0mTypeError\u001b[0m\u001b[0;34m:\u001b[0m\u001b[0;34m\u001b[0m\u001b[0m\n\u001b[1;32m    286\u001b[0m                 \u001b[0mcodes\u001b[0m\u001b[0;34m,\u001b[0m \u001b[0mcategories\u001b[0m \u001b[0;34m=\u001b[0m \u001b[0mfactorize\u001b[0m\u001b[0;34m(\u001b[0m\u001b[0mvalues\u001b[0m\u001b[0;34m,\u001b[0m \u001b[0msort\u001b[0m\u001b[0;34m=\u001b[0m\u001b[0;32mFalse\u001b[0m\u001b[0;34m)\u001b[0m\u001b[0;34m\u001b[0m\u001b[0m\n",
      "\u001b[0;32m/Library/Frameworks/Python.framework/Versions/3.6/lib/python3.6/site-packages/pandas/core/algorithms.py\u001b[0m in \u001b[0;36mfactorize\u001b[0;34m(values, sort, order, na_sentinel, size_hint)\u001b[0m\n\u001b[1;32m    560\u001b[0m     \u001b[0;32mif\u001b[0m \u001b[0msort\u001b[0m \u001b[0;32mand\u001b[0m \u001b[0mlen\u001b[0m\u001b[0;34m(\u001b[0m\u001b[0muniques\u001b[0m\u001b[0;34m)\u001b[0m \u001b[0;34m>\u001b[0m \u001b[0;36m0\u001b[0m\u001b[0;34m:\u001b[0m\u001b[0;34m\u001b[0m\u001b[0m\n\u001b[1;32m    561\u001b[0m         uniques, labels = safe_sort(uniques, labels, na_sentinel=na_sentinel,\n\u001b[0;32m--> 562\u001b[0;31m                                     assume_unique=True)\n\u001b[0m\u001b[1;32m    563\u001b[0m \u001b[0;34m\u001b[0m\u001b[0m\n\u001b[1;32m    564\u001b[0m     \u001b[0muniques\u001b[0m \u001b[0;34m=\u001b[0m \u001b[0m_reconstruct_data\u001b[0m\u001b[0;34m(\u001b[0m\u001b[0muniques\u001b[0m\u001b[0;34m,\u001b[0m \u001b[0mdtype\u001b[0m\u001b[0;34m,\u001b[0m \u001b[0moriginal\u001b[0m\u001b[0;34m)\u001b[0m\u001b[0;34m\u001b[0m\u001b[0m\n",
      "\u001b[0;32m/Library/Frameworks/Python.framework/Versions/3.6/lib/python3.6/site-packages/pandas/core/algorithms.py\u001b[0m in \u001b[0;36msafe_sort\u001b[0;34m(values, labels, na_sentinel, assume_unique)\u001b[0m\n\u001b[1;32m    509\u001b[0m     \u001b[0mreverse_indexer\u001b[0m\u001b[0;34m.\u001b[0m\u001b[0mput\u001b[0m\u001b[0;34m(\u001b[0m\u001b[0msorter\u001b[0m\u001b[0;34m,\u001b[0m \u001b[0mnp\u001b[0m\u001b[0;34m.\u001b[0m\u001b[0marange\u001b[0m\u001b[0;34m(\u001b[0m\u001b[0mlen\u001b[0m\u001b[0;34m(\u001b[0m\u001b[0msorter\u001b[0m\u001b[0;34m)\u001b[0m\u001b[0;34m)\u001b[0m\u001b[0;34m)\u001b[0m\u001b[0;34m\u001b[0m\u001b[0m\n\u001b[1;32m    510\u001b[0m \u001b[0;34m\u001b[0m\u001b[0m\n\u001b[0;32m--> 511\u001b[0;31m     \u001b[0mmask\u001b[0m \u001b[0;34m=\u001b[0m \u001b[0;34m(\u001b[0m\u001b[0mlabels\u001b[0m \u001b[0;34m<\u001b[0m \u001b[0;34m-\u001b[0m\u001b[0mlen\u001b[0m\u001b[0;34m(\u001b[0m\u001b[0mvalues\u001b[0m\u001b[0;34m)\u001b[0m\u001b[0;34m)\u001b[0m \u001b[0;34m|\u001b[0m \u001b[0;34m(\u001b[0m\u001b[0mlabels\u001b[0m \u001b[0;34m>=\u001b[0m \u001b[0mlen\u001b[0m\u001b[0;34m(\u001b[0m\u001b[0mvalues\u001b[0m\u001b[0;34m)\u001b[0m\u001b[0;34m)\u001b[0m \u001b[0;34m|\u001b[0m\u001b[0;31m \u001b[0m\u001b[0;31m\\\u001b[0m\u001b[0;34m\u001b[0m\u001b[0m\n\u001b[0m\u001b[1;32m    512\u001b[0m         \u001b[0;34m(\u001b[0m\u001b[0mlabels\u001b[0m \u001b[0;34m==\u001b[0m \u001b[0mna_sentinel\u001b[0m\u001b[0;34m)\u001b[0m\u001b[0;34m\u001b[0m\u001b[0m\n\u001b[1;32m    513\u001b[0m \u001b[0;34m\u001b[0m\u001b[0m\n",
      "\u001b[0;31mKeyboardInterrupt\u001b[0m: "
     ]
    }
   ],
   "source": [
    "%%time\n",
    "\n",
    "df_train, labels = features(train_orders, labels_given=True)\n",
    "f_to_use = ['user_total_orders', 'user_total_items', 'total_distinct_items', \\\n",
    "            'user_average_days_between_orders', 'user_average_basket', \\\n",
    "            'order_hour_of_day', 'days_since_prior_order', 'days_since_ratio', \\\n",
    "            'aisle_id', 'department_id', 'product_orders', 'product_reorders', \\\n",
    "            'product_reorder_rate', 'UP_orders', 'UP_orders_ratio', \\\n",
    "            'UP_average_pos_in_cart', 'UP_reorder_rate', 'UP_orders_since_last', \\\n",
    "            'UP_delta_hour_vs_last']\n",
    "len(f_to_use)"
   ]
  },
  {
   "cell_type": "code",
   "execution_count": null,
   "metadata": {
    "collapsed": true
   },
   "outputs": [],
   "source": [
    "df_train.head()"
   ]
  },
  {
   "cell_type": "code",
   "execution_count": null,
   "metadata": {
    "collapsed": true
   },
   "outputs": [],
   "source": [
    "labels.head()"
   ]
  },
  {
   "cell_type": "code",
   "execution_count": null,
   "metadata": {
    "collapsed": true
   },
   "outputs": [],
   "source": []
  },
  {
   "cell_type": "code",
   "execution_count": null,
   "metadata": {
    "collapsed": true
   },
   "outputs": [],
   "source": []
  }
 ],
 "metadata": {
  "kernelspec": {
   "display_name": "Python 3",
   "language": "python",
   "name": "python3"
  },
  "language_info": {
   "codemirror_mode": {
    "name": "ipython",
    "version": 3
   },
   "file_extension": ".py",
   "mimetype": "text/x-python",
   "name": "python",
   "nbconvert_exporter": "python",
   "pygments_lexer": "ipython3",
   "version": "3.6.1"
  }
 },
 "nbformat": 4,
 "nbformat_minor": 2
}
