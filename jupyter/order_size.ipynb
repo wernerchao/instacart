{
 "cells": [
  {
   "cell_type": "code",
   "execution_count": 1,
   "metadata": {
    "collapsed": true
   },
   "outputs": [],
   "source": [
    "%matplotlib inline\n",
    "\n",
    "import numpy as np\n",
    "import pandas as pd\n",
    "import time\n",
    "import gc\n",
    "\n",
    "import matplotlib.pyplot as plt\n",
    "import seaborn as sns\n",
    "sns.set(style=\"white\")\n",
    "\n",
    "from sklearn.model_selection import StratifiedKFold, KFold\n",
    "from sklearn.metrics import f1_score, mean_squared_error, mean_absolute_error\n",
    "from sklearn.decomposition import PCA\n",
    "import xgboost as xgb"
   ]
  },
  {
   "cell_type": "code",
   "execution_count": 2,
   "metadata": {},
   "outputs": [
    {
     "name": "stdout",
     "output_type": "stream",
     "text": [
      "loading prior\n",
      "loading train\n",
      "loading orders\n",
      "priors (32434489, 4): order_id, product_id, add_to_cart_order, reordered\n",
      "orders (3421083, 7): order_id, user_id, eval_set, order_number, order_dow, order_hour_of_day, days_since_prior_order\n"
     ]
    },
    {
     "data": {
      "text/html": [
       "<div>\n",
       "<style>\n",
       "    .dataframe thead tr:only-child th {\n",
       "        text-align: right;\n",
       "    }\n",
       "\n",
       "    .dataframe thead th {\n",
       "        text-align: left;\n",
       "    }\n",
       "\n",
       "    .dataframe tbody tr th {\n",
       "        vertical-align: top;\n",
       "    }\n",
       "</style>\n",
       "<table border=\"1\" class=\"dataframe\">\n",
       "  <thead>\n",
       "    <tr style=\"text-align: right;\">\n",
       "      <th></th>\n",
       "      <th>order_id</th>\n",
       "      <th>product_id</th>\n",
       "      <th>add_to_cart_order</th>\n",
       "      <th>reordered</th>\n",
       "      <th>user_id</th>\n",
       "      <th>eval_set</th>\n",
       "      <th>order_number</th>\n",
       "      <th>order_dow</th>\n",
       "      <th>order_hour_of_day</th>\n",
       "      <th>days_since_prior_order</th>\n",
       "    </tr>\n",
       "  </thead>\n",
       "  <tbody>\n",
       "    <tr>\n",
       "      <th>0</th>\n",
       "      <td>2</td>\n",
       "      <td>33120</td>\n",
       "      <td>1</td>\n",
       "      <td>1</td>\n",
       "      <td>202279</td>\n",
       "      <td>prior</td>\n",
       "      <td>3</td>\n",
       "      <td>5</td>\n",
       "      <td>9</td>\n",
       "      <td>8.0</td>\n",
       "    </tr>\n",
       "    <tr>\n",
       "      <th>1</th>\n",
       "      <td>2</td>\n",
       "      <td>28985</td>\n",
       "      <td>2</td>\n",
       "      <td>1</td>\n",
       "      <td>202279</td>\n",
       "      <td>prior</td>\n",
       "      <td>3</td>\n",
       "      <td>5</td>\n",
       "      <td>9</td>\n",
       "      <td>8.0</td>\n",
       "    </tr>\n",
       "    <tr>\n",
       "      <th>2</th>\n",
       "      <td>2</td>\n",
       "      <td>9327</td>\n",
       "      <td>3</td>\n",
       "      <td>0</td>\n",
       "      <td>202279</td>\n",
       "      <td>prior</td>\n",
       "      <td>3</td>\n",
       "      <td>5</td>\n",
       "      <td>9</td>\n",
       "      <td>8.0</td>\n",
       "    </tr>\n",
       "    <tr>\n",
       "      <th>3</th>\n",
       "      <td>2</td>\n",
       "      <td>45918</td>\n",
       "      <td>4</td>\n",
       "      <td>1</td>\n",
       "      <td>202279</td>\n",
       "      <td>prior</td>\n",
       "      <td>3</td>\n",
       "      <td>5</td>\n",
       "      <td>9</td>\n",
       "      <td>8.0</td>\n",
       "    </tr>\n",
       "    <tr>\n",
       "      <th>4</th>\n",
       "      <td>2</td>\n",
       "      <td>30035</td>\n",
       "      <td>5</td>\n",
       "      <td>0</td>\n",
       "      <td>202279</td>\n",
       "      <td>prior</td>\n",
       "      <td>3</td>\n",
       "      <td>5</td>\n",
       "      <td>9</td>\n",
       "      <td>8.0</td>\n",
       "    </tr>\n",
       "  </tbody>\n",
       "</table>\n",
       "</div>"
      ],
      "text/plain": [
       "   order_id  product_id  add_to_cart_order  reordered  user_id eval_set  \\\n",
       "0         2       33120                  1          1   202279    prior   \n",
       "1         2       28985                  2          1   202279    prior   \n",
       "2         2        9327                  3          0   202279    prior   \n",
       "3         2       45918                  4          1   202279    prior   \n",
       "4         2       30035                  5          0   202279    prior   \n",
       "\n",
       "   order_number  order_dow  order_hour_of_day  days_since_prior_order  \n",
       "0             3          5                  9                     8.0  \n",
       "1             3          5                  9                     8.0  \n",
       "2             3          5                  9                     8.0  \n",
       "3             3          5                  9                     8.0  \n",
       "4             3          5                  9                     8.0  "
      ]
     },
     "execution_count": 2,
     "metadata": {},
     "output_type": "execute_result"
    }
   ],
   "source": [
    "IDIR = '../../data/'\n",
    "print('loading prior')\n",
    "priors = pd.read_csv(IDIR + 'order_products__prior.csv', dtype={\n",
    "            'order_id': np.int32,\n",
    "            'product_id': np.uint16,\n",
    "            'add_to_cart_order': np.int16,\n",
    "            'reordered': np.int8})\n",
    "\n",
    "print('loading train')\n",
    "train = pd.read_csv(IDIR + 'order_products__train.csv', dtype={\n",
    "            'order_id': np.int32,\n",
    "            'product_id': np.uint16,\n",
    "            'add_to_cart_order': np.int16,\n",
    "            'reordered': np.int8})\n",
    "\n",
    "print('loading orders')\n",
    "orders = pd.read_csv(IDIR + 'orders.csv', dtype={\n",
    "        'order_id': np.int32,\n",
    "        'user_id': np.int32,\n",
    "        'eval_set': 'category',\n",
    "        'order_number': np.int16,\n",
    "        'order_dow': np.int8,\n",
    "        'order_hour_of_day': np.int8,\n",
    "        'days_since_prior_order': np.float32})\n",
    "\n",
    "\n",
    "print('priors {}: {}'.format(priors.shape, ', '.join(priors.columns)))\n",
    "print('orders {}: {}'.format(orders.shape, ', '.join(orders.columns)))\n",
    "\n",
    "priors = priors.merge(orders, how='left', on='order_id', suffixes='_r')\n",
    "train = train.merge(orders, how='left', on='order_id', suffixes='_r')\n",
    "priors.head(5)"
   ]
  },
  {
   "cell_type": "code",
   "execution_count": 15,
   "metadata": {
    "scrolled": true
   },
   "outputs": [
    {
     "name": "stdout",
     "output_type": "stream",
     "text": [
      "   order_id  order_size  user_id  order_number  order_dow  order_hour_of_day  \\\n",
      "0         2           9   202279             3          5                  9   \n",
      "1         3           8   205970            16          5                 17   \n",
      "2         4          13   178520            36          1                  9   \n",
      "3         5          26   156122            42          6                 16   \n",
      "4         6           3    22352             4          1                 12   \n",
      "\n",
      "   days_since_prior_order  \n",
      "0                     8.0  \n",
      "1                    12.0  \n",
      "2                     7.0  \n",
      "3                     9.0  \n",
      "4                    30.0   \n",
      "\n"
     ]
    },
    {
     "data": {
      "text/html": [
       "<div>\n",
       "<style>\n",
       "    .dataframe thead tr:only-child th {\n",
       "        text-align: right;\n",
       "    }\n",
       "\n",
       "    .dataframe thead th {\n",
       "        text-align: left;\n",
       "    }\n",
       "\n",
       "    .dataframe tbody tr th {\n",
       "        vertical-align: top;\n",
       "    }\n",
       "</style>\n",
       "<table border=\"1\" class=\"dataframe\">\n",
       "  <thead>\n",
       "    <tr style=\"text-align: right;\">\n",
       "      <th></th>\n",
       "      <th>order_id</th>\n",
       "      <th>order_size</th>\n",
       "      <th>user_id</th>\n",
       "      <th>order_number</th>\n",
       "      <th>order_dow</th>\n",
       "      <th>order_hour_of_day</th>\n",
       "      <th>days_since_prior_order</th>\n",
       "    </tr>\n",
       "  </thead>\n",
       "  <tbody>\n",
       "    <tr>\n",
       "      <th>0</th>\n",
       "      <td>1</td>\n",
       "      <td>8</td>\n",
       "      <td>112108</td>\n",
       "      <td>4</td>\n",
       "      <td>4</td>\n",
       "      <td>10</td>\n",
       "      <td>9.0</td>\n",
       "    </tr>\n",
       "    <tr>\n",
       "      <th>1</th>\n",
       "      <td>36</td>\n",
       "      <td>8</td>\n",
       "      <td>79431</td>\n",
       "      <td>23</td>\n",
       "      <td>6</td>\n",
       "      <td>18</td>\n",
       "      <td>30.0</td>\n",
       "    </tr>\n",
       "    <tr>\n",
       "      <th>2</th>\n",
       "      <td>38</td>\n",
       "      <td>9</td>\n",
       "      <td>42756</td>\n",
       "      <td>6</td>\n",
       "      <td>6</td>\n",
       "      <td>16</td>\n",
       "      <td>24.0</td>\n",
       "    </tr>\n",
       "    <tr>\n",
       "      <th>3</th>\n",
       "      <td>96</td>\n",
       "      <td>7</td>\n",
       "      <td>17227</td>\n",
       "      <td>7</td>\n",
       "      <td>6</td>\n",
       "      <td>20</td>\n",
       "      <td>30.0</td>\n",
       "    </tr>\n",
       "    <tr>\n",
       "      <th>4</th>\n",
       "      <td>98</td>\n",
       "      <td>49</td>\n",
       "      <td>56463</td>\n",
       "      <td>41</td>\n",
       "      <td>3</td>\n",
       "      <td>8</td>\n",
       "      <td>14.0</td>\n",
       "    </tr>\n",
       "  </tbody>\n",
       "</table>\n",
       "</div>"
      ],
      "text/plain": [
       "   order_id  order_size  user_id  order_number  order_dow  order_hour_of_day  \\\n",
       "0         1           8   112108             4          4                 10   \n",
       "1        36           8    79431            23          6                 18   \n",
       "2        38           9    42756             6          6                 16   \n",
       "3        96           7    17227             7          6                 20   \n",
       "4        98          49    56463            41          3                  8   \n",
       "\n",
       "   days_since_prior_order  \n",
       "0                     9.0  \n",
       "1                    30.0  \n",
       "2                    24.0  \n",
       "3                    30.0  \n",
       "4                    14.0  "
      ]
     },
     "execution_count": 15,
     "metadata": {},
     "output_type": "execute_result"
    }
   ],
   "source": [
    "usersXorders = pd.DataFrame()\n",
    "usersXorders['order_size'] = priors.groupby('order_id')['product_id'].size()\n",
    "usersXorders.reset_index(inplace=True)\n",
    "usersXorders = usersXorders.merge(orders, how='left', on='order_id', suffixes=('', '_r'))\n",
    "usersXorders = usersXorders.drop('eval_set', axis=1)\n",
    "print(usersXorders.head(5), '\\n')\n",
    "\n",
    "usersXorders_val = pd.DataFrame()\n",
    "usersXorders_val['order_size'] = train.groupby('order_id')['product_id'].size()\n",
    "usersXorders_val.reset_index(inplace=True)\n",
    "usersXorders_val = usersXorders_val.merge(orders, how='left', on='order_id', suffixes=('', '_r'))\n",
    "usersXorders_val = usersXorders_val.drop('eval_set', axis=1)\n",
    "usersXorders_val.head(5)"
   ]
  },
  {
   "cell_type": "code",
   "execution_count": 16,
   "metadata": {},
   "outputs": [
    {
     "name": "stdout",
     "output_type": "stream",
     "text": [
      "(206209, 7)\n"
     ]
    },
    {
     "data": {
      "text/html": [
       "<div>\n",
       "<style>\n",
       "    .dataframe thead tr:only-child th {\n",
       "        text-align: right;\n",
       "    }\n",
       "\n",
       "    .dataframe thead th {\n",
       "        text-align: left;\n",
       "    }\n",
       "\n",
       "    .dataframe tbody tr th {\n",
       "        vertical-align: top;\n",
       "    }\n",
       "</style>\n",
       "<table border=\"1\" class=\"dataframe\">\n",
       "  <thead>\n",
       "    <tr style=\"text-align: right;\">\n",
       "      <th></th>\n",
       "      <th>average_days_between_orders</th>\n",
       "      <th>nb_orders</th>\n",
       "      <th>total_items</th>\n",
       "      <th>all_products</th>\n",
       "      <th>total_distinct_items</th>\n",
       "      <th>average_basket</th>\n",
       "      <th>user_id</th>\n",
       "    </tr>\n",
       "    <tr>\n",
       "      <th>user_id</th>\n",
       "      <th></th>\n",
       "      <th></th>\n",
       "      <th></th>\n",
       "      <th></th>\n",
       "      <th></th>\n",
       "      <th></th>\n",
       "      <th></th>\n",
       "    </tr>\n",
       "  </thead>\n",
       "  <tbody>\n",
       "    <tr>\n",
       "      <th>1</th>\n",
       "      <td>19.000000</td>\n",
       "      <td>11</td>\n",
       "      <td>59</td>\n",
       "      <td>{17122, 196, 26405, 46149, 14084, 13032, 26088...</td>\n",
       "      <td>18</td>\n",
       "      <td>5.363636</td>\n",
       "      <td>1</td>\n",
       "    </tr>\n",
       "    <tr>\n",
       "      <th>2</th>\n",
       "      <td>16.285715</td>\n",
       "      <td>15</td>\n",
       "      <td>195</td>\n",
       "      <td>{45066, 2573, 18961, 23, 32792, 1559, 22559, 1...</td>\n",
       "      <td>102</td>\n",
       "      <td>13.000000</td>\n",
       "      <td>2</td>\n",
       "    </tr>\n",
       "    <tr>\n",
       "      <th>3</th>\n",
       "      <td>12.000000</td>\n",
       "      <td>13</td>\n",
       "      <td>88</td>\n",
       "      <td>{17668, 44683, 48523, 21903, 14992, 21137, 324...</td>\n",
       "      <td>33</td>\n",
       "      <td>6.769231</td>\n",
       "      <td>3</td>\n",
       "    </tr>\n",
       "    <tr>\n",
       "      <th>4</th>\n",
       "      <td>17.000000</td>\n",
       "      <td>6</td>\n",
       "      <td>18</td>\n",
       "      <td>{21573, 42329, 17769, 35469, 37646, 1200, 1905...</td>\n",
       "      <td>17</td>\n",
       "      <td>3.000000</td>\n",
       "      <td>4</td>\n",
       "    </tr>\n",
       "    <tr>\n",
       "      <th>5</th>\n",
       "      <td>11.500000</td>\n",
       "      <td>5</td>\n",
       "      <td>37</td>\n",
       "      <td>{11777, 40706, 28289, 48775, 20754, 6808, 1398...</td>\n",
       "      <td>23</td>\n",
       "      <td>7.400000</td>\n",
       "      <td>5</td>\n",
       "    </tr>\n",
       "  </tbody>\n",
       "</table>\n",
       "</div>"
      ],
      "text/plain": [
       "         average_days_between_orders  nb_orders  total_items  \\\n",
       "user_id                                                        \n",
       "1                          19.000000         11           59   \n",
       "2                          16.285715         15          195   \n",
       "3                          12.000000         13           88   \n",
       "4                          17.000000          6           18   \n",
       "5                          11.500000          5           37   \n",
       "\n",
       "                                              all_products  \\\n",
       "user_id                                                      \n",
       "1        {17122, 196, 26405, 46149, 14084, 13032, 26088...   \n",
       "2        {45066, 2573, 18961, 23, 32792, 1559, 22559, 1...   \n",
       "3        {17668, 44683, 48523, 21903, 14992, 21137, 324...   \n",
       "4        {21573, 42329, 17769, 35469, 37646, 1200, 1905...   \n",
       "5        {11777, 40706, 28289, 48775, 20754, 6808, 1398...   \n",
       "\n",
       "         total_distinct_items  average_basket  user_id  \n",
       "user_id                                                 \n",
       "1                          18        5.363636        1  \n",
       "2                         102       13.000000        2  \n",
       "3                          33        6.769231        3  \n",
       "4                          17        3.000000        4  \n",
       "5                          23        7.400000        5  "
      ]
     },
     "execution_count": 16,
     "metadata": {},
     "output_type": "execute_result"
    }
   ],
   "source": [
    "users = pd.DataFrame()\n",
    "users['average_days_between_orders'] = orders.groupby('user_id')['days_since_prior_order'].mean().astype(np.float32)\n",
    "users['nb_orders'] = orders.groupby('user_id').size().astype(np.int16) # orders data gives user_id, order_id\n",
    "users['total_items'] = priors.groupby('user_id').size().astype(np.int16) # priors data gives order_id, product_id\n",
    "users['all_products'] = priors.groupby('user_id')['product_id'].apply(set)\n",
    "users['total_distinct_items'] = (users['all_products'].map(len)).astype(np.int16)\n",
    "users['average_basket'] = (users['total_items'] / users['nb_orders']).astype(np.float32)\n",
    "users['user_id'] = users.index\n",
    "users.to_csv('users.csv', index=False)\n",
    "print(users.shape)\n",
    "users.head()"
   ]
  },
  {
   "cell_type": "code",
   "execution_count": 17,
   "metadata": {},
   "outputs": [
    {
     "name": "stdout",
     "output_type": "stream",
     "text": [
      "(3214874, 12) (131209, 12)\n"
     ]
    },
    {
     "data": {
      "text/html": [
       "<div>\n",
       "<style>\n",
       "    .dataframe thead tr:only-child th {\n",
       "        text-align: right;\n",
       "    }\n",
       "\n",
       "    .dataframe thead th {\n",
       "        text-align: left;\n",
       "    }\n",
       "\n",
       "    .dataframe tbody tr th {\n",
       "        vertical-align: top;\n",
       "    }\n",
       "</style>\n",
       "<table border=\"1\" class=\"dataframe\">\n",
       "  <thead>\n",
       "    <tr style=\"text-align: right;\">\n",
       "      <th></th>\n",
       "      <th>order_id</th>\n",
       "      <th>order_size</th>\n",
       "      <th>user_id</th>\n",
       "      <th>order_number</th>\n",
       "      <th>order_dow</th>\n",
       "      <th>order_hour_of_day</th>\n",
       "      <th>days_since_prior_order</th>\n",
       "      <th>average_days_between_orders</th>\n",
       "      <th>nb_orders</th>\n",
       "      <th>total_items</th>\n",
       "      <th>total_distinct_items</th>\n",
       "      <th>average_basket</th>\n",
       "    </tr>\n",
       "  </thead>\n",
       "  <tbody>\n",
       "    <tr>\n",
       "      <th>0</th>\n",
       "      <td>1</td>\n",
       "      <td>8</td>\n",
       "      <td>112108</td>\n",
       "      <td>4</td>\n",
       "      <td>4</td>\n",
       "      <td>10</td>\n",
       "      <td>9.0</td>\n",
       "      <td>10.333333</td>\n",
       "      <td>4</td>\n",
       "      <td>21</td>\n",
       "      <td>12</td>\n",
       "      <td>5.250000</td>\n",
       "    </tr>\n",
       "    <tr>\n",
       "      <th>1</th>\n",
       "      <td>36</td>\n",
       "      <td>8</td>\n",
       "      <td>79431</td>\n",
       "      <td>23</td>\n",
       "      <td>6</td>\n",
       "      <td>18</td>\n",
       "      <td>30.0</td>\n",
       "      <td>15.681818</td>\n",
       "      <td>23</td>\n",
       "      <td>187</td>\n",
       "      <td>101</td>\n",
       "      <td>8.130435</td>\n",
       "    </tr>\n",
       "    <tr>\n",
       "      <th>2</th>\n",
       "      <td>38</td>\n",
       "      <td>9</td>\n",
       "      <td>42756</td>\n",
       "      <td>6</td>\n",
       "      <td>6</td>\n",
       "      <td>16</td>\n",
       "      <td>24.0</td>\n",
       "      <td>22.400000</td>\n",
       "      <td>6</td>\n",
       "      <td>39</td>\n",
       "      <td>31</td>\n",
       "      <td>6.500000</td>\n",
       "    </tr>\n",
       "    <tr>\n",
       "      <th>3</th>\n",
       "      <td>96</td>\n",
       "      <td>7</td>\n",
       "      <td>17227</td>\n",
       "      <td>7</td>\n",
       "      <td>6</td>\n",
       "      <td>20</td>\n",
       "      <td>30.0</td>\n",
       "      <td>21.000000</td>\n",
       "      <td>7</td>\n",
       "      <td>43</td>\n",
       "      <td>33</td>\n",
       "      <td>6.142857</td>\n",
       "    </tr>\n",
       "    <tr>\n",
       "      <th>4</th>\n",
       "      <td>98</td>\n",
       "      <td>49</td>\n",
       "      <td>56463</td>\n",
       "      <td>41</td>\n",
       "      <td>3</td>\n",
       "      <td>8</td>\n",
       "      <td>14.0</td>\n",
       "      <td>9.050000</td>\n",
       "      <td>41</td>\n",
       "      <td>1234</td>\n",
       "      <td>207</td>\n",
       "      <td>30.097561</td>\n",
       "    </tr>\n",
       "  </tbody>\n",
       "</table>\n",
       "</div>"
      ],
      "text/plain": [
       "   order_id  order_size  user_id  order_number  order_dow  order_hour_of_day  \\\n",
       "0         1           8   112108             4          4                 10   \n",
       "1        36           8    79431            23          6                 18   \n",
       "2        38           9    42756             6          6                 16   \n",
       "3        96           7    17227             7          6                 20   \n",
       "4        98          49    56463            41          3                  8   \n",
       "\n",
       "   days_since_prior_order  average_days_between_orders  nb_orders  \\\n",
       "0                     9.0                    10.333333          4   \n",
       "1                    30.0                    15.681818         23   \n",
       "2                    24.0                    22.400000          6   \n",
       "3                    30.0                    21.000000          7   \n",
       "4                    14.0                     9.050000         41   \n",
       "\n",
       "   total_items  total_distinct_items  average_basket  \n",
       "0           21                    12        5.250000  \n",
       "1          187                   101        8.130435  \n",
       "2           39                    31        6.500000  \n",
       "3           43                    33        6.142857  \n",
       "4         1234                   207       30.097561  "
      ]
     },
     "execution_count": 17,
     "metadata": {},
     "output_type": "execute_result"
    }
   ],
   "source": [
    "usersXorders = usersXorders.merge(users, on='user_id', how='left', suffixes=('', '_r'))\n",
    "usersXorders = usersXorders.drop(['all_products'], axis=1)\n",
    "\n",
    "usersXorders_val = usersXorders_val.merge(users, on='user_id', how='left', suffixes=('', '_r'))\n",
    "usersXorders_val = usersXorders_val.drop(['all_products'], axis=1)\n",
    "\n",
    "print(usersXorders.shape, usersXorders_val.shape)\n",
    "usersXorders_val.head()"
   ]
  },
  {
   "cell_type": "markdown",
   "metadata": {},
   "source": [
    "# Randomly pick a user to inspect the behavior\n",
    "## Data Exploration"
   ]
  },
  {
   "cell_type": "code",
   "execution_count": 62,
   "metadata": {
    "scrolled": true
   },
   "outputs": [
    {
     "data": {
      "text/plain": [
       "(99, 7)"
      ]
     },
     "execution_count": 62,
     "metadata": {},
     "output_type": "execute_result"
    }
   ],
   "source": [
    "n_transactions = orders.groupby('user_id').size().astype(np.int16)\n",
    "n_transactions[n_transactions == 100]\n",
    "# user_ = usersXorders[usersXorders['user_id'] == 204485]"
   ]
  },
  {
   "cell_type": "code",
   "execution_count": 70,
   "metadata": {
    "scrolled": true
   },
   "outputs": [
    {
     "data": {
      "image/png": "[encoded data removed]",
      "text/plain": [
       "<matplotlib.figure.Figure at 0x1126872b0>"
      ]
     },
     "metadata": {},
     "output_type": "display_data"
    }
   ],
   "source": [
    "_ = plt.figure(figsize=(16, 8))\n",
    "_ = plt.scatter(user_.loc[:, 'days_since_prior_order'], user_.loc[:, 'order_size'])\n",
    "_ = plt.xlabel('days_since_prior_order')\n",
    "_ = plt.ylabel('order_size')\n",
    "_ = plt.title('user 204485 - order habit')"
   ]
  },
  {
   "cell_type": "code",
   "execution_count": 92,
   "metadata": {
    "scrolled": true
   },
   "outputs": [
    {
     "data": {
      "image/png": "[encoded data removed]",
      "text/plain": [
       "<matplotlib.figure.Figure at 0x11133ecc0>"
      ]
     },
     "metadata": {},
     "output_type": "display_data"
    }
   ],
   "source": [
    "# np.sum(usersXorders.isnull())\n",
    "_ = plt.figure(figsize=(16,8))\n",
    "_ = plt.hist(usersXorders[usersXorders['days_since_prior_order'].isnull()]['order_size'], bins=35)"
   ]
  },
  {
   "cell_type": "markdown",
   "metadata": {},
   "source": [
    "# Prepare DataFrame for training and Save"
   ]
  },
  {
   "cell_type": "code",
   "execution_count": 18,
   "metadata": {
    "scrolled": true
   },
   "outputs": [
    {
     "name": "stdout",
     "output_type": "stream",
     "text": [
      "(3214874, 12) (3214874,)\n",
      "   order_id  order_size  user_id  order_number  order_dow  order_hour_of_day  \\\n",
      "0         2           9   202279             3          5                  9   \n",
      "1         3           8   205970            16          5                 17   \n",
      "2         4          13   178520            36          1                  9   \n",
      "3         5          26   156122            42          6                 16   \n",
      "4         6           3    22352             4          1                 12   \n",
      "\n",
      "   days_since_prior_order  average_days_between_orders  nb_orders  \\\n",
      "0                     8.0                    22.625000          9   \n",
      "1                    12.0                     9.240000         26   \n",
      "2                     7.0                     6.500000         57   \n",
      "3                     9.0                     6.673077         53   \n",
      "4                    30.0                    24.500000          9   \n",
      "\n",
      "   total_items  total_distinct_items  average_basket  \n",
      "0           90                    47       10.000000  \n",
      "1          323                   133       12.423077  \n",
      "2          923                   107       16.192982  \n",
      "3          967                   154       18.245283  \n",
      "4           91                    83       10.111111   \n",
      "\n",
      "(131209, 12) (131209,)\n",
      "   order_id  order_size  user_id  order_number  order_dow  order_hour_of_day  \\\n",
      "0         1           8   112108             4          4                 10   \n",
      "1        36           8    79431            23          6                 18   \n",
      "2        38           9    42756             6          6                 16   \n",
      "3        96           7    17227             7          6                 20   \n",
      "4        98          49    56463            41          3                  8   \n",
      "\n",
      "   days_since_prior_order  average_days_between_orders  nb_orders  \\\n",
      "0                     9.0                    10.333333          4   \n",
      "1                    30.0                    15.681818         23   \n",
      "2                    24.0                    22.400000          6   \n",
      "3                    30.0                    21.000000          7   \n",
      "4                    14.0                     9.050000         41   \n",
      "\n",
      "   total_items  total_distinct_items  average_basket  \n",
      "0           21                    12        5.250000  \n",
      "1          187                   101        8.130435  \n",
      "2           39                    31        6.500000  \n",
      "3           43                    33        6.142857  \n",
      "4         1234                   207       30.097561  \n"
     ]
    }
   ],
   "source": [
    "# Prior data as train set\n",
    "label = usersXorders['order_size']\n",
    "order_id = usersXorders['order_id']\n",
    "user_id = usersXorders['user_id']\n",
    "\n",
    "\n",
    "# Save features and labels:\n",
    "usersXorders.to_csv('usersXorders_features.csv', index=False)\n",
    "label.to_csv('usersXorders_labels.csv', index=False)\n",
    "print(usersXorders.shape, label.shape)\n",
    "print(usersXorders.head(), '\\n')\n",
    "usersXorders = usersXorders.drop(['order_size', 'order_id', 'user_id'], axis=1)\n",
    "\n",
    "\n",
    "# Train data as validation set\n",
    "label_val = usersXorders_val['order_size']\n",
    "order_id_val = usersXorders_val['order_id']\n",
    "user_id_val = usersXorders_val['user_id']\n",
    "\n",
    "\n",
    "# Save features and labels:\n",
    "usersXorders_val.to_csv('usersXorders_val_features.csv', index=False)\n",
    "label_val.to_csv('usersXorders_val_labels.csv', index=False)\n",
    "print(usersXorders_val.shape, label_val.shape)\n",
    "print(usersXorders_val.head())\n",
    "usersXorders_val = usersXorders_val.drop(['order_size', 'order_id', 'user_id'], axis=1)"
   ]
  },
  {
   "cell_type": "markdown",
   "metadata": {},
   "source": [
    "# Directly Load Data and Model"
   ]
  },
  {
   "cell_type": "code",
   "execution_count": 7,
   "metadata": {},
   "outputs": [
    {
     "data": {
      "text/plain": [
       "((3214874, 4), (3214874,))"
      ]
     },
     "execution_count": 7,
     "metadata": {},
     "output_type": "execute_result"
    }
   ],
   "source": [
    "usersXorders = pd.read_csv('./usersXorders_features.csv')\n",
    "label = pd.read_csv('./usersXorders_labels.csv')\n",
    "\n",
    "# Load Model\n",
    "bst = xgb.Booster()\n",
    "bst.load_model('./xgb_order_size')\n",
    "usersXorders.shape, label.shape"
   ]
  },
  {
   "cell_type": "code",
   "execution_count": 19,
   "metadata": {},
   "outputs": [
    {
     "name": "stdout",
     "output_type": "stream",
     "text": [
      "Prepare DMatrix...\n",
      "Training...\n",
      "[0]\ttrain-rmse:10.2011\tval-rmse:10.9084\n",
      "Multiple eval metrics have been passed: 'val-rmse' will be used for early stopping.\n",
      "\n",
      "Will train until val-rmse hasn't improved in 50 rounds.\n",
      "[10]\ttrain-rmse:5.04184\tval-rmse:5.92225\n",
      "[20]\ttrain-rmse:4.92081\tval-rmse:5.77352\n",
      "[30]\ttrain-rmse:4.90309\tval-rmse:5.76147\n",
      "[40]\ttrain-rmse:4.89374\tval-rmse:5.75781\n",
      "[50]\ttrain-rmse:4.88776\tval-rmse:5.75803\n",
      "[60]\ttrain-rmse:4.88311\tval-rmse:5.75835\n",
      "[70]\ttrain-rmse:4.87933\tval-rmse:5.75968\n",
      "[80]\ttrain-rmse:4.87543\tval-rmse:5.75873\n",
      "Stopping. Best iteration:\n",
      "[35]\ttrain-rmse:4.89762\tval-rmse:5.75697\n",
      "\n"
     ]
    }
   ],
   "source": [
    "params = {\n",
    "    'objective': 'reg:linear', \n",
    "    'eval_metric': 'rmse', \n",
    "    'eta': 0.2, \n",
    "    'subsample' : 0.76,\n",
    "    'colsample_bytree' : 0.95\n",
    "}\n",
    "\n",
    "    \n",
    "print('Prepare DMatrix...')\n",
    "d_train = xgb.DMatrix(usersXorders, label = label)\n",
    "d_valid = xgb.DMatrix(usersXorders_val, label = label_val)\n",
    "watchlist = [(d_train, 'train'), (d_valid, 'val')]\n",
    "\n",
    "print('Training...')\n",
    "bst = xgb.train(params = params, \\\n",
    "                dtrain = d_train, \\\n",
    "                num_boost_round = 200, \\\n",
    "                evals = watchlist, \\\n",
    "                verbose_eval = 10, \\\n",
    "                early_stopping_rounds = 50)"
   ]
  },
  {
   "cell_type": "code",
   "execution_count": 20,
   "metadata": {
    "collapsed": true
   },
   "outputs": [],
   "source": [
    "# Save XGB model.\n",
    "bst.save_model('xgb_order_size')"
   ]
  },
  {
   "cell_type": "code",
   "execution_count": 21,
   "metadata": {},
   "outputs": [
    {
     "data": {
      "image/png": "[encoded data removed]",
      "text/plain": [
       "<matplotlib.figure.Figure at 0x10ac634a8>"
      ]
     },
     "metadata": {},
     "output_type": "display_data"
    }
   ],
   "source": [
    "pred_val = bst.predict(xgb.DMatrix(usersXorders_val))\n",
    "_ = plt.scatter(pred_val, label_val.as_matrix())\n",
    "_ = plt.xlabel('predicted')\n",
    "_ = plt.ylabel('true')"
   ]
  },
  {
   "cell_type": "code",
   "execution_count": 22,
   "metadata": {},
   "outputs": [
    {
     "name": "stdout",
     "output_type": "stream",
     "text": [
      "MSE 33.1604790318\n",
      "RMSE 5.75851361306\n",
      "MAE 4.05523850035\n"
     ]
    }
   ],
   "source": [
    "print('MSE', mean_squared_error(label_val.as_matrix(), pred_val))\n",
    "print('RMSE', mean_squared_error(label_val.as_matrix(), pred_val)**0.5)\n",
    "print('MAE', mean_absolute_error(label_val.as_matrix(), pred_val))\n",
    "\n",
    "# 61.1062765204\n",
    "# 7.81705037213\n",
    "# 5.90722489387"
   ]
  },
  {
   "cell_type": "code",
   "execution_count": 23,
   "metadata": {},
   "outputs": [
    {
     "data": {
      "image/png": "[encoded data removed]",
      "text/plain": [
       "<matplotlib.figure.Figure at 0x10b19ffd0>"
      ]
     },
     "metadata": {},
     "output_type": "display_data"
    }
   ],
   "source": [
    "plt.rcParams[\"figure.figsize\"] = (16, 8)\n",
    "_ = xgb.plot_importance(bst)"
   ]
  },
  {
   "cell_type": "code",
   "execution_count": 24,
   "metadata": {},
   "outputs": [
    {
     "data": {
      "text/html": [
       "<div>\n",
       "<style>\n",
       "    .dataframe thead tr:only-child th {\n",
       "        text-align: right;\n",
       "    }\n",
       "\n",
       "    .dataframe thead th {\n",
       "        text-align: left;\n",
       "    }\n",
       "\n",
       "    .dataframe tbody tr th {\n",
       "        vertical-align: top;\n",
       "    }\n",
       "</style>\n",
       "<table border=\"1\" class=\"dataframe\">\n",
       "  <thead>\n",
       "    <tr style=\"text-align: right;\">\n",
       "      <th></th>\n",
       "      <th>order_number</th>\n",
       "      <th>order_dow</th>\n",
       "      <th>order_hour_of_day</th>\n",
       "      <th>days_since_prior_order</th>\n",
       "      <th>average_days_between_orders</th>\n",
       "      <th>nb_orders</th>\n",
       "      <th>total_items</th>\n",
       "      <th>total_distinct_items</th>\n",
       "      <th>average_basket</th>\n",
       "    </tr>\n",
       "  </thead>\n",
       "  <tbody>\n",
       "    <tr>\n",
       "      <th>0</th>\n",
       "      <td>3</td>\n",
       "      <td>5</td>\n",
       "      <td>9</td>\n",
       "      <td>8.0</td>\n",
       "      <td>22.625000</td>\n",
       "      <td>9</td>\n",
       "      <td>90</td>\n",
       "      <td>47</td>\n",
       "      <td>10.000000</td>\n",
       "    </tr>\n",
       "    <tr>\n",
       "      <th>1</th>\n",
       "      <td>16</td>\n",
       "      <td>5</td>\n",
       "      <td>17</td>\n",
       "      <td>12.0</td>\n",
       "      <td>9.240000</td>\n",
       "      <td>26</td>\n",
       "      <td>323</td>\n",
       "      <td>133</td>\n",
       "      <td>12.423077</td>\n",
       "    </tr>\n",
       "    <tr>\n",
       "      <th>2</th>\n",
       "      <td>36</td>\n",
       "      <td>1</td>\n",
       "      <td>9</td>\n",
       "      <td>7.0</td>\n",
       "      <td>6.500000</td>\n",
       "      <td>57</td>\n",
       "      <td>923</td>\n",
       "      <td>107</td>\n",
       "      <td>16.192982</td>\n",
       "    </tr>\n",
       "    <tr>\n",
       "      <th>3</th>\n",
       "      <td>42</td>\n",
       "      <td>6</td>\n",
       "      <td>16</td>\n",
       "      <td>9.0</td>\n",
       "      <td>6.673077</td>\n",
       "      <td>53</td>\n",
       "      <td>967</td>\n",
       "      <td>154</td>\n",
       "      <td>18.245283</td>\n",
       "    </tr>\n",
       "    <tr>\n",
       "      <th>4</th>\n",
       "      <td>4</td>\n",
       "      <td>1</td>\n",
       "      <td>12</td>\n",
       "      <td>30.0</td>\n",
       "      <td>24.500000</td>\n",
       "      <td>9</td>\n",
       "      <td>91</td>\n",
       "      <td>83</td>\n",
       "      <td>10.111111</td>\n",
       "    </tr>\n",
       "  </tbody>\n",
       "</table>\n",
       "</div>"
      ],
      "text/plain": [
       "   order_number  order_dow  order_hour_of_day  days_since_prior_order  \\\n",
       "0             3          5                  9                     8.0   \n",
       "1            16          5                 17                    12.0   \n",
       "2            36          1                  9                     7.0   \n",
       "3            42          6                 16                     9.0   \n",
       "4             4          1                 12                    30.0   \n",
       "\n",
       "   average_days_between_orders  nb_orders  total_items  total_distinct_items  \\\n",
       "0                    22.625000          9           90                    47   \n",
       "1                     9.240000         26          323                   133   \n",
       "2                     6.500000         57          923                   107   \n",
       "3                     6.673077         53          967                   154   \n",
       "4                    24.500000          9           91                    83   \n",
       "\n",
       "   average_basket  \n",
       "0       10.000000  \n",
       "1       12.423077  \n",
       "2       16.192982  \n",
       "3       18.245283  \n",
       "4       10.111111  "
      ]
     },
     "execution_count": 24,
     "metadata": {},
     "output_type": "execute_result"
    }
   ],
   "source": [
    "usersXorders.head()"
   ]
  },
  {
   "cell_type": "code",
   "execution_count": 30,
   "metadata": {},
   "outputs": [
    {
     "name": "stdout",
     "output_type": "stream",
     "text": [
      "3    7\n",
      "Name: order_size, dtype: int64\n",
      "3    17227\n",
      "Name: user_id, dtype: int32\n"
     ]
    },
    {
     "data": {
      "text/html": [
       "<div>\n",
       "<style>\n",
       "    .dataframe thead tr:only-child th {\n",
       "        text-align: right;\n",
       "    }\n",
       "\n",
       "    .dataframe thead th {\n",
       "        text-align: left;\n",
       "    }\n",
       "\n",
       "    .dataframe tbody tr th {\n",
       "        vertical-align: top;\n",
       "    }\n",
       "</style>\n",
       "<table border=\"1\" class=\"dataframe\">\n",
       "  <thead>\n",
       "    <tr style=\"text-align: right;\">\n",
       "      <th></th>\n",
       "      <th>order_number</th>\n",
       "      <th>order_dow</th>\n",
       "      <th>order_hour_of_day</th>\n",
       "      <th>days_since_prior_order</th>\n",
       "      <th>average_days_between_orders</th>\n",
       "      <th>nb_orders</th>\n",
       "      <th>total_items</th>\n",
       "      <th>total_distinct_items</th>\n",
       "      <th>average_basket</th>\n",
       "    </tr>\n",
       "  </thead>\n",
       "  <tbody>\n",
       "    <tr>\n",
       "      <th>3</th>\n",
       "      <td>7</td>\n",
       "      <td>6</td>\n",
       "      <td>20</td>\n",
       "      <td>30.0</td>\n",
       "      <td>21.0</td>\n",
       "      <td>7</td>\n",
       "      <td>43</td>\n",
       "      <td>33</td>\n",
       "      <td>6.142857</td>\n",
       "    </tr>\n",
       "  </tbody>\n",
       "</table>\n",
       "</div>"
      ],
      "text/plain": [
       "   order_number  order_dow  order_hour_of_day  days_since_prior_order  \\\n",
       "3             7          6                 20                    30.0   \n",
       "\n",
       "   average_days_between_orders  nb_orders  total_items  total_distinct_items  \\\n",
       "3                         21.0          7           43                    33   \n",
       "\n",
       "   average_basket  \n",
       "3        6.142857  "
      ]
     },
     "execution_count": 30,
     "metadata": {},
     "output_type": "execute_result"
    }
   ],
   "source": [
    "print(label_val[order_id_val == 96])\n",
    "print(user_id_val[order_id_val == 96])\n",
    "usersXorders_val[order_id_val == 96]"
   ]
  },
  {
   "cell_type": "code",
   "execution_count": null,
   "metadata": {
    "collapsed": true
   },
   "outputs": [],
   "source": []
  },
  {
   "cell_type": "code",
   "execution_count": null,
   "metadata": {
    "collapsed": true
   },
   "outputs": [],
   "source": []
  }
 ],
 "metadata": {
  "kernelspec": {
   "display_name": "Python 3",
   "language": "python",
   "name": "python3"
  },
  "language_info": {
   "codemirror_mode": {
    "name": "ipython",
    "version": 3
   },
   "file_extension": ".py",
   "mimetype": "text/x-python",
   "name": "python",
   "nbconvert_exporter": "python",
   "pygments_lexer": "ipython3",
   "version": "3.6.1"
  }
 },
 "nbformat": 4,
 "nbformat_minor": 2
}
